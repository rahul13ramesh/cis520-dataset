{
 "cells": [
  {
   "cell_type": "markdown",
   "metadata": {
    "colab_type": "text",
    "id": "tzPhMs9UhAFr"
   },
   "source": [
    "# Homework 1: Coding\n",
    "\n",
    "**Due Monday September 16th, 11:59pm.**\n",
    "\n",
    "**This is an individual assignment.**\n",
    "\n",
    "**Submit hw1.py file to Gradescope (you may submit as many times as you'd like before the deadline).**"
   ]
  },
  {
   "cell_type": "code",
   "execution_count": 1,
   "metadata": {
    "colab": {},
    "colab_type": "code",
    "id": "mqy1LtZCIQuG"
   },
   "outputs": [],
   "source": [
    "\"\"\"\n",
    "Import libraries that you might require.\n",
    "\n",
    "DON'T comment out these imports when submitting your final hw1.py file.\n",
    "\"\"\"\n",
    "\n",
    "import numpy as np\n",
    "import math\n",
    "import matplotlib.pyplot as plt\n",
    "import operator\n",
    "\n",
    "from sklearn.metrics import accuracy_score\n",
    "from sklearn.tree import DecisionTreeClassifier"
   ]
  },
  {
   "cell_type": "markdown",
   "metadata": {
    "colab_type": "text",
    "id": "HMQDN_YzIQuK"
   },
   "source": [
    "# Question 4: KNN Classification"
   ]
  },
  {
   "cell_type": "markdown",
   "metadata": {
    "colab_type": "text",
    "id": "WgH67-bV4AJ9"
   },
   "source": [
    "We will implement the KNN algorithm for the breast cancer dataset. Refer to the pdf and the following functions for the instructions. Complete all the functions as indicated below. The four functions would be autograded as mentioned in the pdf."
   ]
  },
  {
   "cell_type": "code",
   "execution_count": 41,
   "metadata": {
    "colab": {},
    "colab_type": "code",
    "id": "5qmuIim2IQuK"
   },
   "outputs": [],
   "source": [
    "\"\"\"\n",
    "Task 1: Classification\n",
    "\n",
    "Please implement KNN for K: 3, 5, and 7 with the following norms:\n",
    "L1\n",
    "L2\n",
    "L-inf\n",
    "\"\"\"\n",
    "\n",
    "# Read data (Breast Cancer Dataset). Remember to comment out the code not contained in a function.\n",
    "# from sklearn.datasets import load_breast_cancer\n",
    "\n",
    "# breast = load_breast_cancer()\n",
    "\n",
    "# X = breast['data']\n",
    "# y = breast['target']\n",
    "\n",
    "# np.random.seed(100)\n",
    "# p = np.random.permutation(len(X))\n",
    "# X, y = X[p], y[p]\n",
    "\n",
    "# X_train, y_train = X[:400], y[:400]\n",
    "# X_val, y_val = X[400:500], y[400:500]\n",
    "# X_test, y_test = X[500:], y[500:]\n",
    "\n",
    "\n",
    "def distanceFunc(metric_type, vec1, vec2):\n",
    "    \"\"\"\n",
    "    Computes the distance between two d-dimension vectors. \n",
    "    \n",
    "    Please DO NOT use Numpy's norm function when implementing this function. \n",
    "    \n",
    "    Args:\n",
    "        metric_type (str): Metric: L1, L2, or L-inf\n",
    "        vec1 ((d,) np.ndarray): d-dim vector\n",
    "        vec2 ((d,)) np.ndarray): d-dim vector\n",
    "    \n",
    "    Returns:\n",
    "        distance (float): distance between the two vectors\n",
    "    \"\"\"\n",
    "    diff = vec1 - vec2\n",
    "    if metric_type == \"L1\":\n",
    "        diff = np.absolute(diff)\n",
    "        distance = np.sum(diff)\n",
    "\n",
    "    if metric_type == \"L2\":\n",
    "        diff = np.sum(np.square(diff))\n",
    "        distance = np.sqrt(diff)\n",
    "        \n",
    "    if metric_type == \"L-inf\":\n",
    "        diff = np.absolute(diff)\n",
    "        distance = np.max(diff)\n",
    "        \n",
    "    return distance\n",
    "\n",
    "\n",
    "def computeDistancesNeighbors(K, metric_type, X_train, y_train, sample):\n",
    "    \"\"\"\n",
    "    Compute the distances between every datapoint in the train_data and the \n",
    "    given sample. Then, find the k-nearest neighbors.\n",
    "    \n",
    "    Return a numpy array of the label of the k-nearest neighbors.\n",
    "    \n",
    "    Args:\n",
    "        K (int): K-value\n",
    "        metric_type (str): metric type\n",
    "        X_train ((n,p) np.ndarray): Training data with n samples and p features\n",
    "        y_train : Training labels\n",
    "        sample ((p,) np.ndarray): Single sample whose distance is to computed with every entry in the dataset\n",
    "        \n",
    "    Returns:\n",
    "        neighbors (list): K-nearest neighbors' labels\n",
    "    \"\"\"\n",
    "    # Iterate through all points and find distance with sample\n",
    "    distances = [distanceFunc(metric_type, x, sample) for x in X_train]\n",
    "    # Get indices of smallest k distances \n",
    "    neighbour_indices = np.argpartition(distances, K)[:K]\n",
    "    neighbors = [y_train[idx] for idx in neighbour_indices]\n",
    "    return neighbors\n",
    "\n",
    "\n",
    "def Majority(neighbors):\n",
    "    \"\"\"\n",
    "    Performs majority voting and returns the predicted value for the test sample.\n",
    "    \n",
    "    Since we're performing binary classification the possible values are [0,1].\n",
    "    \n",
    "    Args:\n",
    "        neighbors (list): K-nearest neighbors' labels\n",
    "        \n",
    "    Returns:\n",
    "        predicted_value (int): predicted label for the given sample\n",
    "    \"\"\"\n",
    "    \n",
    "    # Performs majority voting\n",
    "    neighbors = np.array(neighbors)\n",
    "    negative_labs = np.sum(neighbors == 0)\n",
    "    positive_labs = np.sum(neighbors == 1)\n",
    "    if (negative_labs >= positive_labs):\n",
    "        predicted_value = 0\n",
    "    else:\n",
    "        predicted_value = 1\n",
    "    \n",
    "    return predicted_value\n",
    "\n",
    "\n",
    "def KNN(K, metric_type, X_train, y_train, X_val):\n",
    "    \"\"\"\n",
    "    Returns the predicted values for the entire validation or test set.\n",
    "    \n",
    "    Please DO NOT use Scikit's KNN model when implementing this function. \n",
    "    Args:\n",
    "        K (int): K-value\n",
    "        metric_type (str): metric type\n",
    "        X_train ((n,p) np.ndarray): Training data with n samples and p features\n",
    "        y_train : Training labels\n",
    "        X_val ((n, p) np.ndarray): Validation or test data\n",
    "        \n",
    "    Returns:\n",
    "        predicted_values (list): output for every entry in validation/test dataset \n",
    "    \"\"\"\n",
    "    neighbors = [computeDistancesNeighbors(K, metric_type, X_train, y_train, x) for x in X_val]\n",
    "    predictions = [Majority(nbr) for nbr in neighbors]\n",
    "    return predictions\n",
    "\n",
    "\n",
    "def evaluation(predicted_values, actual_values):\n",
    "    \"\"\"\n",
    "    Computes the accuracy of the given datapoints.\n",
    "    \n",
    "    Args:\n",
    "        predicted_values ((n,) np.ndarray): Predicted values for n samples\n",
    "        actual_values ((n,) np.ndarray): Actual values for n samples\n",
    "    \n",
    "    Returns:\n",
    "        accuracy (float): accuracy\n",
    "    \"\"\"\n",
    "    return accuracy_score(predicted_values, actual_values)\n",
    "\n",
    "\n",
    "def main():\n",
    "    \"\"\"\n",
    "    Calls the above functions in order to implement the KNN algorithm.\n",
    "    \n",
    "    Test over the following range K = 3,5,7 and all three metrics. \n",
    "    In total you will have nine combinations to try.\n",
    "    \n",
    "    PRINTS out the accuracies for the nine combinations on the validation set,\n",
    "    and the accuracy on the test set for the selected K value and appropriate norm.\n",
    "    \n",
    "    REMEMBER: You have to report these values by populating the Table 2 in the latex file.\n",
    "    \"\"\"\n",
    "    \n",
    "    K = [3,5,7]\n",
    "    norm = [\"L1\", \"L2\", \"L-inf\"]\n",
    "    \n",
    "    print(\"<<<<VALIDATION DATA PREDICTIONS>>>>\")\n",
    "    \n",
    "    max_hyperparam = [3, \"L1\"]\n",
    "    max_accuracy = -1\n",
    "    for k in K:\n",
    "        for n in norm:\n",
    "            predicted = KNN(k, n, X_train, y_train, X_val)\n",
    "            accuracy = evaluation(predicted, y_val)\n",
    "            print(\"K=\" + str(k), \" Norm=\" + str(n) + \"\\t\\tAccuracy=\" + str(accuracy))\n",
    "            if accuracy > max_accuracy:\n",
    "                max_hyperparam = [k, n]\n",
    "                max_accuracy = accuracy\n",
    "                \n",
    "    \n",
    "    print(\"<<<<TEST DATA PREDICTIONS>>>>\")\n",
    "    predicted = KNN(max_hyperparam[0], max_hyperparam[1], X_train, y_train, X_test)\n",
    "    accuracy = evaluation(predicted, y_test)\n",
    "    print(\"K=\" + str(max_hyperparam[0]) + \" Norm=\" + str(max_hyperparam[1]))\n",
    "    print(\"Accuracy=\" + str(accuracy))\n",
    "                \n",
    "    \n",
    "    "
   ]
  },
  {
   "cell_type": "markdown",
   "metadata": {
    "colab_type": "text",
    "id": "n45LQ_db9HdO"
   },
   "source": [
    "Uncomment the code below to run the main function (Remember to recomment the code before submitting)."
   ]
  },
  {
   "cell_type": "code",
   "execution_count": 42,
   "metadata": {
    "colab": {},
    "colab_type": "code",
    "id": "DW4D4AbBjhK5"
   },
   "outputs": [
    {
     "name": "stdout",
     "output_type": "stream",
     "text": [
      "<<<<VALIDATION DATA PREDICTIONS>>>>\n",
      "K=3  Norm=L1\t\tAccuracy=0.94\n",
      "K=3  Norm=L2\t\tAccuracy=0.95\n",
      "K=3  Norm=L-inf\t\tAccuracy=0.94\n",
      "K=5  Norm=L1\t\tAccuracy=0.94\n",
      "K=5  Norm=L2\t\tAccuracy=0.93\n",
      "K=5  Norm=L-inf\t\tAccuracy=0.94\n",
      "K=7  Norm=L1\t\tAccuracy=0.93\n",
      "K=7  Norm=L2\t\tAccuracy=0.92\n",
      "K=7  Norm=L-inf\t\tAccuracy=0.93\n",
      "<<<<TEST DATA PREDICTIONS>>>>\n",
      "K=3 Norm=L2\n",
      "Accuracy=0.8840579710144928\n"
     ]
    }
   ],
   "source": [
    "# Finally, call the main function\n",
    "# main()"
   ]
  },
  {
   "cell_type": "markdown",
   "metadata": {
    "colab_type": "text",
    "id": "yRHmX6xYlEMO"
   },
   "source": [
    "### Question 4 Report in LaTeX\n",
    "\n",
    "Answer the following questions in your LaTeX document:\n",
    "\n",
    "1. How could having a larger dataset influence the performance of KNN?\n",
    "\n",
    "2. Tabulate your results from `main()` in the table provided in the LaTeX template.\n",
    "\n",
    "3. Finally, mention the best K and the norm combination you have settled upon and report the accuracy on the test set using that combination.\n"
   ]
  },
  {
   "cell_type": "markdown",
   "metadata": {
    "colab_type": "text",
    "id": "XmURULzoXCvq"
   },
   "source": [
    "# Question 5: Decision Tree Classification"
   ]
  },
  {
   "cell_type": "markdown",
   "metadata": {
    "colab_type": "text",
    "id": "S-_QAM3jXCvq"
   },
   "source": [
    "### Helper functions\n",
    "The block below contains helper functions for this task."
   ]
  },
  {
   "cell_type": "code",
   "execution_count": 67,
   "metadata": {
    "colab": {},
    "colab_type": "code",
    "id": "9KC2aNmoXCvr"
   },
   "outputs": [],
   "source": [
    "# Below are a list of helper functions to use to help you on this task\n",
    "\n",
    "def train_decision_tree(X, y, depth=None, leaf_count=None):\n",
    "    \"\"\"\n",
    "    Trains a decision tree classifier on the given X, y data with the specified \n",
    "    tree depth d and max leaf node count max_leaf_num.\n",
    "\n",
    "    Args:\n",
    "    X ((n,p) np.ndarray): The input Xs, which are in an n (number of samples) by\n",
    "                          p (number of features) matrix\n",
    "    y ((n,) np.ndarray): The input ys, which are in an n length array\n",
    "    depth (int): The maximum depth of the tree. A value of None means no restrictions\n",
    "             on the depth of the tree.\n",
    "    leaf_count (int): The maximum leaf count of the tree's leaf nodes. A value of None means \n",
    "    no restrictions on the leaf count of the tree.\n",
    "\n",
    "    Returns:\n",
    "    clf(DecisionTreeClassifier): the trained decision tree classifier\n",
    "    \"\"\"\n",
    "\n",
    "    clf = DecisionTreeClassifier(max_depth=depth, max_leaf_nodes=leaf_count, criterion=\"entropy\", random_state=1)\n",
    "    clf.fit(X,y)\n",
    "    return clf\n",
    "\n",
    "\n",
    "def predict(clf, X_test):\n",
    "    \"\"\"\n",
    "    Uses a trained decision tree classifier to predict on a given test set.\n",
    "\n",
    "    Args:\n",
    "    clf (DecisionTreeClassifier): Trained Decision Tree Classifer\n",
    "    X_test ((n,p) np.ndarray): The input Xs, which are in an n (number of samples) by\n",
    "                               p (number of features) matrix\n",
    "\n",
    "    Returns:\n",
    "    y_pred ((n,) np.ndarray): The output predictions, which are in an n length array\n",
    "    \"\"\"\n",
    "\n",
    "    y_pred = clf.predict(X_test)\n",
    "    return y_pred\n",
    "\n",
    "\n",
    "def evaluate(predicted_values, actual_values):\n",
    "    \"\"\"\n",
    "    Computes the accuracy of the given datapoints.\n",
    "    \n",
    "    Args:\n",
    "        predicted_values: numpy array\n",
    "        actual_values: numpy array\n",
    "    \n",
    "    Returns:\n",
    "        a floating point number representing the accuracy\n",
    "    \"\"\"\n",
    "    \n",
    "    from sklearn.metrics import accuracy_score\n",
    "    return accuracy_score(predicted_values, actual_values)\n",
    "  \n",
    "    \n",
    "def plot_line_graph(x_vals, y_vals_1, y_vals_2, y_vals_1_label, y_vals_2_label, x_axis_label, y_axis_label, title):\n",
    "    \"\"\"\n",
    "    Plots a line graph of two lines of different values with common x-values\n",
    "\n",
    "    Args:\n",
    "    x_vals ((j,) list): Values to be displayed on horizontal axis, where j is number of values\n",
    "    y_vals_1 ((j,) list): First set of values to be graphed on a line in respect to x_vals, where j is number of values\n",
    "    y_vals_2 ((j,) list): Second set of values to be graphed on a line in respect to x_vals, where j is number of values\n",
    "    y_vals_1_label (string): Label for first set of y values\n",
    "    y_vals_2_label (string): Label for second set of y values\n",
    "    x_axis_label (string): Label for x axis\n",
    "    y_axis_label (string): Label for y axis\n",
    "    title (string): Plot title\n",
    "    \"\"\" \n",
    "\n",
    "    plt.plot(x_vals, y_vals_1, color='g', label=y_vals_1_label)\n",
    "    plt.plot(x_vals, y_vals_2, color='orange', label=y_vals_2_label)\n",
    "    plt.xlabel(x_axis_label)\n",
    "    plt.ylabel(y_axis_label)\n",
    "    plt.title(title)\n",
    "    plt.legend(loc='upper right')\n",
    "    plt.show()"
   ]
  },
  {
   "cell_type": "markdown",
   "metadata": {
    "colab_type": "text",
    "id": "eP9j8K21XCvs"
   },
   "source": [
    "### Compare Accuracy for full classification dataset as well as smaller classification dataset\n",
    "We will be using the breast cancer classification dataset. You are also given a smaller training dataset with the same data as the full dataset but with only half of the sample number. We will observe the performance changes when less data is available.\n",
    "\n",
    "To start, uncomment the code below and run to retrieve the data. (Recomment before submission)"
   ]
  },
  {
   "cell_type": "code",
   "execution_count": 69,
   "metadata": {
    "colab": {},
    "colab_type": "code",
    "id": "LRothkZeXCvt"
   },
   "outputs": [],
   "source": [
    "# # We will also use the same breast cancer classification dataset in Task 1.\n",
    "# from sklearn.datasets import load_breast_cancer\n",
    "# breast = load_breast_cancer()\n",
    "\n",
    "# X = breast['data']\n",
    "# y = breast['target']\n",
    "\n",
    "# np.random.seed(100)\n",
    "# p = np.random.permutation(len(X))\n",
    "# X, y = X[p], y[p]\n",
    "\n",
    "# X_train, y_train = X[:400], y[:400]\n",
    "# X_val, y_val = X[400:500], y[400:500]\n",
    "# X_test, y_test = X[500:], y[500:]\n",
    "\n",
    "# # Let's create a smaller version of the training dataset using only half of the data available\n",
    "# train_sample_num_small = int(X_train.shape[0] / 2)\n",
    "# X_train_small, y_train_small = X_train[:train_sample_num_small], y_train[:train_sample_num_small]"
   ]
  },
  {
   "cell_type": "markdown",
   "metadata": {
    "colab_type": "text",
    "id": "PEsSQwRMXCvv"
   },
   "source": [
    "### Base Metrics on Full and Partial Data\n",
    "To start, you will be comparing the training and testing accuracies of both datasets given a vanilla decision tree.\n",
    "\n",
    "Note: Make sure to create two separate classifiers for each dataset."
   ]
  },
  {
   "cell_type": "code",
   "execution_count": 70,
   "metadata": {
    "colab": {},
    "colab_type": "code",
    "id": "xfRXN92DXCvv"
   },
   "outputs": [],
   "source": [
    "def base_metrics(X_train, y_train, X_train_small, y_train_small, X_val, y_val, X_test, y_test):\n",
    "    \"\"\"\n",
    "    Create a decision tree classifer on the full dataset and the partial dataset (only half of n).\n",
    "\n",
    "    Args: (Note that n is not the same among train and test sets, but merely refers to sample size)\n",
    "        X_train ((n,p) np.ndarray): Input feature matrix of full dataset for training/fitting\n",
    "        y_train ((n,) np.ndarray): Input label array of full dataset for training/fitting\n",
    "        X_train_small ((n,p) np.ndarray): Input feature matrix of partial/small dataset for training/fitting\n",
    "        y_train_small ((n,) np.ndarray): Input label array of partial/small dataset for training/fitting\n",
    "        X_val ((n,p) np.ndarray): Input feature matrix of full dataset for validation\n",
    "        y_val ((n,) np.ndarray): Input label array of full dataset for validation\n",
    "        X_test ((n,p) np.ndarray): Input feature matrix of full dataset for testing\n",
    "        y_test ((n,) np.ndarray): Input label array of full dataset for testing    \n",
    "\n",
    "    Returns:\n",
    "        train_acc_full_set (float): Training accuracy using a model trained on the full dataset\n",
    "        val_acc_full_set (float): Validation accuracy using a model trained on the full dataset\n",
    "        test_acc_full_set (float): Test accuracy using a model trained on the full dataset\n",
    "        train_acc_small_set (float): Training accuracy using a model trained on the small dataset\n",
    "        val_acc_small_set (float): Validation accuracy using a model trained on the small dataset\n",
    "        test_acc_small_set (float): Test accuracy using a model trained on the small dataset\n",
    "    \"\"\"\n",
    "\n",
    "    small_tree = train_decision_tree(X_train_small, y_train_small)\n",
    "    tree = train_decision_tree(X_train, y_train)\n",
    "    \n",
    "    train_acc_full_set = evaluate(predict(tree, X_train) , y_train)\n",
    "    val_acc_full_set = evaluate(predict(tree, X_val) , y_val)\n",
    "    test_acc_full_set = evaluate(predict(tree, X_test) , y_test)\n",
    "\n",
    "    train_acc_small_set = evaluate(predict(small_tree, X_train_small) , y_train_small)\n",
    "    val_acc_small_set = evaluate(predict(small_tree, X_val) , y_val)\n",
    "    test_acc_small_set = evaluate(predict(small_tree, X_test) , y_test)\n",
    "    \n",
    "    print(\"Train Accuracy on Full Dataset: \", train_acc_full_set)\n",
    "    print(\"Validation Accuracy on Full Dataset: \", val_acc_full_set)\n",
    "    print(\"Test Accuracy on Full Dataset: \", test_acc_full_set)\n",
    "    print(\"Train Accuracy on Small (Half) Dataset: \", train_acc_small_set)\n",
    "    print(\"Validation Accuracy on Small (Half) Dataset: \", val_acc_small_set)\n",
    "    print(\"Test Accuracy on Small (Half) Dataset: \", test_acc_small_set)\n",
    "\n",
    "    return (train_acc_full_set, \n",
    "          val_acc_full_set, \n",
    "          test_acc_full_set,\n",
    "          train_acc_small_set, \n",
    "          val_acc_small_set, \n",
    "          test_acc_small_set)"
   ]
  },
  {
   "cell_type": "markdown",
   "metadata": {
    "colab_type": "text",
    "id": "QTH2bUBY3SCP"
   },
   "source": [
    "Uncomment the code below and run the code. (Remember to recomment the code before submitting)."
   ]
  },
  {
   "cell_type": "code",
   "execution_count": 73,
   "metadata": {
    "colab": {},
    "colab_type": "code",
    "id": "VM9BV2i3XCvx"
   },
   "outputs": [],
   "source": [
    "# base_metrics(X_train, y_train, X_train_small, y_train_small, X_val, y_val, X_test, y_test)"
   ]
  },
  {
   "cell_type": "markdown",
   "metadata": {
    "colab_type": "text",
    "id": "7gUUoJSO3SCR"
   },
   "source": [
    "### Question 5.1 Report on LaTeX\n",
    "Answer the following questions on LaTeX in the respective section.\n",
    "1. Report the results of the accuracies on LateX.\n",
    "2. Which dataset had a higher difference between training and test accuracy? Briefly explain why."
   ]
  },
  {
   "cell_type": "markdown",
   "metadata": {
    "colab_type": "text",
    "id": "6xiF5-LvXCvz"
   },
   "source": [
    "### Improving Decision Tree for Smaller Dataset by Tuning Hyperparameters\n",
    "Classifiers often overfit on smaller datasets, so now, we will optimize hyperparameters on tree depth and max leaf count to improve the performance of our model. \n",
    "\n",
    "Fill out the helper functions below which will take an array of hyperparameter values for tree depth and an array of hyperparameter values for max leaf count. The helper function will return a training and validation accuracy score for every pair of hyperparameter values. This is referred to as **grid search** for hyperparameter tuning.\n",
    "\n",
    "At the end, the function identifies the best value of the tree depth and tree node count hyperparameters for a dataset, as well as the final training and testing scores.\n",
    "\n",
    "Note: Use the highest validation score to choose the optimal hyperparameter combination. If there is a tie, use the lower hyperparameter value."
   ]
  },
  {
   "cell_type": "code",
   "execution_count": 75,
   "metadata": {
    "colab": {},
    "colab_type": "code",
    "id": "k1nPIPFmXCvz"
   },
   "outputs": [],
   "source": [
    "def grid_search_depth_and_leaf_count(depth_search_space, leaf_count_search_space, X_train, y_train, X_val, y_val):\n",
    "    \"\"\"\n",
    "    Perform a decision tree hyperparameter grid search on tree depth and leaf count given training and validation data.\n",
    "\n",
    "    Args:\n",
    "        depth_search_space ((d,) list): Tree depth values to search over, i.e. [1, 3, 6, 10, 30]\n",
    "        leaf_count_search_space ((l,) list): Max leaf count values to search over, i.e. [2, 3, 4, 5, 6]\n",
    "        X_train ((n, p) np.ndarray): The input feature matrix for training\n",
    "        y_train ((n, p) np.ndarray): The input ys for training\n",
    "        X_val ((n, p) np.ndarray): The input feature matrix that will be used to validate accuracy scores\n",
    "        y_val ((n, p) np.ndarray): The input ys that will be used to validate accuracy scores\n",
    "\n",
    "    Returns:\n",
    "        best_depth (int): The depth count in the hyperparameter combination with the largest validation score\n",
    "        best_leaf_count (int): The leaf count in the hyperparameter combination with the largest validation score\n",
    "    \"\"\"\n",
    "    max_accuracy = -1\n",
    "    best_depth = 0\n",
    "    best_leaf_count = 0\n",
    "    for dp in depth_search_space:\n",
    "        for lf in leaf_count_search_space:\n",
    "            model = train_decision_tree(X_train, y_train, dp, lf)\n",
    "            accuracy = evaluate(predict(model, X_val), y_val)\n",
    "            print(\"Depth=\" + str(dp), \" Leaf count=\" + str(lf) + \"\\t\\tAccuracy=\" + str(accuracy))\n",
    "            if accuracy > max_accuracy:\n",
    "                best_depth = dp\n",
    "                best_leaf_count = lf\n",
    "                max_accuracy = accuracy\n",
    "                \n",
    "    print(\"Chosen Depth: \", best_depth)\n",
    "    print(\"Chosen Leaf: \", best_leaf_count)\n",
    "\n",
    "    return best_depth, best_leaf_count"
   ]
  },
  {
   "cell_type": "markdown",
   "metadata": {
    "colab_type": "text",
    "id": "RvCBkKLJ3SCV"
   },
   "source": [
    "Uncomment and run the code below to and record the best depth and best leaf count hyperparameters on LaTeX in the respective section."
   ]
  },
  {
   "cell_type": "code",
   "execution_count": 76,
   "metadata": {
    "colab": {},
    "colab_type": "code",
    "id": "RyZZ2CHb3SCW"
   },
   "outputs": [
    {
     "name": "stdout",
     "output_type": "stream",
     "text": [
      "FULL DATASET\n",
      "Depth=2  Leaf count=2\t\tAccuracy=0.89\n",
      "Depth=2  Leaf count=3\t\tAccuracy=0.89\n",
      "Depth=2  Leaf count=4\t\tAccuracy=0.9\n",
      "Depth=2  Leaf count=5\t\tAccuracy=0.93\n",
      "Depth=2  Leaf count=6\t\tAccuracy=0.93\n",
      "Depth=2  Leaf count=7\t\tAccuracy=0.93\n",
      "Depth=2  Leaf count=8\t\tAccuracy=0.93\n",
      "Depth=2  Leaf count=9\t\tAccuracy=0.93\n",
      "Depth=2  Leaf count=10\t\tAccuracy=0.93\n",
      "Depth=4  Leaf count=2\t\tAccuracy=0.89\n",
      "Depth=4  Leaf count=3\t\tAccuracy=0.89\n",
      "Depth=4  Leaf count=4\t\tAccuracy=0.9\n",
      "Depth=4  Leaf count=5\t\tAccuracy=0.93\n",
      "Depth=4  Leaf count=6\t\tAccuracy=0.93\n",
      "Depth=4  Leaf count=7\t\tAccuracy=0.91\n",
      "Depth=4  Leaf count=8\t\tAccuracy=0.92\n",
      "Depth=4  Leaf count=9\t\tAccuracy=0.92\n",
      "Depth=4  Leaf count=10\t\tAccuracy=0.92\n",
      "Depth=6  Leaf count=2\t\tAccuracy=0.89\n",
      "Depth=6  Leaf count=3\t\tAccuracy=0.89\n",
      "Depth=6  Leaf count=4\t\tAccuracy=0.9\n",
      "Depth=6  Leaf count=5\t\tAccuracy=0.93\n",
      "Depth=6  Leaf count=6\t\tAccuracy=0.93\n",
      "Depth=6  Leaf count=7\t\tAccuracy=0.91\n",
      "Depth=6  Leaf count=8\t\tAccuracy=0.92\n",
      "Depth=6  Leaf count=9\t\tAccuracy=0.92\n",
      "Depth=6  Leaf count=10\t\tAccuracy=0.92\n",
      "Depth=8  Leaf count=2\t\tAccuracy=0.89\n",
      "Depth=8  Leaf count=3\t\tAccuracy=0.89\n",
      "Depth=8  Leaf count=4\t\tAccuracy=0.9\n",
      "Depth=8  Leaf count=5\t\tAccuracy=0.93\n",
      "Depth=8  Leaf count=6\t\tAccuracy=0.93\n",
      "Depth=8  Leaf count=7\t\tAccuracy=0.91\n",
      "Depth=8  Leaf count=8\t\tAccuracy=0.92\n",
      "Depth=8  Leaf count=9\t\tAccuracy=0.92\n",
      "Depth=8  Leaf count=10\t\tAccuracy=0.92\n",
      "Depth=10  Leaf count=2\t\tAccuracy=0.89\n",
      "Depth=10  Leaf count=3\t\tAccuracy=0.89\n",
      "Depth=10  Leaf count=4\t\tAccuracy=0.9\n",
      "Depth=10  Leaf count=5\t\tAccuracy=0.93\n",
      "Depth=10  Leaf count=6\t\tAccuracy=0.93\n",
      "Depth=10  Leaf count=7\t\tAccuracy=0.91\n",
      "Depth=10  Leaf count=8\t\tAccuracy=0.92\n",
      "Depth=10  Leaf count=9\t\tAccuracy=0.92\n",
      "Depth=10  Leaf count=10\t\tAccuracy=0.92\n",
      "Depth=16  Leaf count=2\t\tAccuracy=0.89\n",
      "Depth=16  Leaf count=3\t\tAccuracy=0.89\n",
      "Depth=16  Leaf count=4\t\tAccuracy=0.9\n",
      "Depth=16  Leaf count=5\t\tAccuracy=0.93\n",
      "Depth=16  Leaf count=6\t\tAccuracy=0.93\n",
      "Depth=16  Leaf count=7\t\tAccuracy=0.91\n",
      "Depth=16  Leaf count=8\t\tAccuracy=0.92\n",
      "Depth=16  Leaf count=9\t\tAccuracy=0.92\n",
      "Depth=16  Leaf count=10\t\tAccuracy=0.92\n",
      "Depth=20  Leaf count=2\t\tAccuracy=0.89\n",
      "Depth=20  Leaf count=3\t\tAccuracy=0.89\n",
      "Depth=20  Leaf count=4\t\tAccuracy=0.9\n",
      "Depth=20  Leaf count=5\t\tAccuracy=0.93\n",
      "Depth=20  Leaf count=6\t\tAccuracy=0.93\n",
      "Depth=20  Leaf count=7\t\tAccuracy=0.91\n",
      "Depth=20  Leaf count=8\t\tAccuracy=0.92\n",
      "Depth=20  Leaf count=9\t\tAccuracy=0.92\n",
      "Depth=20  Leaf count=10\t\tAccuracy=0.92\n",
      "Chosen Depth:  2\n",
      "Chosen Leaf:  5\n",
      "\n",
      "SMALL DATASET\n",
      "Depth=2  Leaf count=2\t\tAccuracy=0.91\n",
      "Depth=2  Leaf count=3\t\tAccuracy=0.93\n",
      "Depth=2  Leaf count=4\t\tAccuracy=0.92\n",
      "Depth=2  Leaf count=5\t\tAccuracy=0.93\n",
      "Depth=2  Leaf count=6\t\tAccuracy=0.93\n",
      "Depth=2  Leaf count=7\t\tAccuracy=0.93\n",
      "Depth=2  Leaf count=8\t\tAccuracy=0.93\n",
      "Depth=2  Leaf count=9\t\tAccuracy=0.93\n",
      "Depth=2  Leaf count=10\t\tAccuracy=0.93\n",
      "Depth=4  Leaf count=2\t\tAccuracy=0.91\n",
      "Depth=4  Leaf count=3\t\tAccuracy=0.93\n",
      "Depth=4  Leaf count=4\t\tAccuracy=0.92\n",
      "Depth=4  Leaf count=5\t\tAccuracy=0.93\n",
      "Depth=4  Leaf count=6\t\tAccuracy=0.91\n",
      "Depth=4  Leaf count=7\t\tAccuracy=0.91\n",
      "Depth=4  Leaf count=8\t\tAccuracy=0.91\n",
      "Depth=4  Leaf count=9\t\tAccuracy=0.91\n",
      "Depth=4  Leaf count=10\t\tAccuracy=0.91\n",
      "Depth=6  Leaf count=2\t\tAccuracy=0.91\n",
      "Depth=6  Leaf count=3\t\tAccuracy=0.93\n",
      "Depth=6  Leaf count=4\t\tAccuracy=0.92\n",
      "Depth=6  Leaf count=5\t\tAccuracy=0.93\n",
      "Depth=6  Leaf count=6\t\tAccuracy=0.91\n",
      "Depth=6  Leaf count=7\t\tAccuracy=0.91\n",
      "Depth=6  Leaf count=8\t\tAccuracy=0.91\n",
      "Depth=6  Leaf count=9\t\tAccuracy=0.91\n",
      "Depth=6  Leaf count=10\t\tAccuracy=0.91\n",
      "Depth=8  Leaf count=2\t\tAccuracy=0.91\n",
      "Depth=8  Leaf count=3\t\tAccuracy=0.93\n",
      "Depth=8  Leaf count=4\t\tAccuracy=0.92\n",
      "Depth=8  Leaf count=5\t\tAccuracy=0.93\n",
      "Depth=8  Leaf count=6\t\tAccuracy=0.91\n",
      "Depth=8  Leaf count=7\t\tAccuracy=0.91\n",
      "Depth=8  Leaf count=8\t\tAccuracy=0.91\n",
      "Depth=8  Leaf count=9\t\tAccuracy=0.91\n",
      "Depth=8  Leaf count=10\t\tAccuracy=0.91\n",
      "Depth=10  Leaf count=2\t\tAccuracy=0.91\n",
      "Depth=10  Leaf count=3\t\tAccuracy=0.93\n",
      "Depth=10  Leaf count=4\t\tAccuracy=0.92\n",
      "Depth=10  Leaf count=5\t\tAccuracy=0.93\n",
      "Depth=10  Leaf count=6\t\tAccuracy=0.91\n",
      "Depth=10  Leaf count=7\t\tAccuracy=0.91\n",
      "Depth=10  Leaf count=8\t\tAccuracy=0.91\n",
      "Depth=10  Leaf count=9\t\tAccuracy=0.91\n",
      "Depth=10  Leaf count=10\t\tAccuracy=0.91\n",
      "Depth=16  Leaf count=2\t\tAccuracy=0.91\n",
      "Depth=16  Leaf count=3\t\tAccuracy=0.93\n",
      "Depth=16  Leaf count=4\t\tAccuracy=0.92\n",
      "Depth=16  Leaf count=5\t\tAccuracy=0.93\n",
      "Depth=16  Leaf count=6\t\tAccuracy=0.91\n",
      "Depth=16  Leaf count=7\t\tAccuracy=0.91\n",
      "Depth=16  Leaf count=8\t\tAccuracy=0.91\n",
      "Depth=16  Leaf count=9\t\tAccuracy=0.91\n",
      "Depth=16  Leaf count=10\t\tAccuracy=0.91\n",
      "Depth=20  Leaf count=2\t\tAccuracy=0.91\n",
      "Depth=20  Leaf count=3\t\tAccuracy=0.93\n",
      "Depth=20  Leaf count=4\t\tAccuracy=0.92\n",
      "Depth=20  Leaf count=5\t\tAccuracy=0.93\n",
      "Depth=20  Leaf count=6\t\tAccuracy=0.91\n",
      "Depth=20  Leaf count=7\t\tAccuracy=0.91\n",
      "Depth=20  Leaf count=8\t\tAccuracy=0.91\n",
      "Depth=20  Leaf count=9\t\tAccuracy=0.91\n",
      "Depth=20  Leaf count=10\t\tAccuracy=0.91\n",
      "Chosen Depth:  2\n",
      "Chosen Leaf:  3\n"
     ]
    },
    {
     "data": {
      "text/plain": [
       "(2, 3)"
      ]
     },
     "execution_count": 76,
     "metadata": {},
     "output_type": "execute_result"
    }
   ],
   "source": [
    "# # Search spaces for grid search to tune tree depth and leaf count hyperparameters\n",
    "# depth_search_space = [2, 4, 6, 8, 10, 16, 20]\n",
    "# leaf_count_search_space = [2, 3, 4, 5, 6, 7, 8, 9, 10]\n",
    "\n",
    "# print(\"FULL DATASET\")\n",
    "# grid_search_depth_and_leaf_count(depth_search_space, \n",
    "#                                  leaf_count_search_space, \n",
    "#                                  X_train, \n",
    "#                                  y_train, \n",
    "#                                  X_val, \n",
    "#                                  y_val)\n",
    "\n",
    "# print(\"\\nSMALL DATASET\")\n",
    "# grid_search_depth_and_leaf_count(depth_search_space, \n",
    "#                                  leaf_count_search_space, \n",
    "#                                  X_train_small, \n",
    "#                                  y_train_small, \n",
    "#                                  X_val,\n",
    "#                                  y_val)"
   ]
  },
  {
   "cell_type": "markdown",
   "metadata": {
    "colab_type": "text",
    "id": "T_oY8swF3SCX"
   },
   "source": [
    "### Question 5.2 Report in LaTeX\n",
    "Answer the following questions in your LaTeX document.\n",
    "1. Report the chosen hyperparameters for both the complete set and the partial set.\n",
    "2. Did the small dataset have higher or lower chosen hyperparameter values than the full dataset? Briefly explain why."
   ]
  },
  {
   "cell_type": "markdown",
   "metadata": {
    "colab_type": "text",
    "id": "e85OLhHfXCv_"
   },
   "source": [
    "### Retrain Decision Tree and Plot Hyperparameter Search\n",
    "Now retrain your decision tree with the optimal hyperparameters. Report training, validation, and testing error for the small dataset.\n",
    "\n",
    "Also for the small dataset, create a graph plotting the training and validation scores for each leaf node hyperparameter value, holding the tree depth hyperparameter consistent at the chosen value."
   ]
  },
  {
   "cell_type": "code",
   "execution_count": 64,
   "metadata": {
    "colab": {},
    "colab_type": "code",
    "id": "JrWrji_iXCwA"
   },
   "outputs": [],
   "source": [
    "def retrain_decision_tree(X_train, y_train, X_val, y_val, X_test, y_test):\n",
    "    \"\"\"\n",
    "    Perform a decision tree hyperparameter grid search given training and validation \n",
    "    data and search values for tree depth and leaf node count.\n",
    "\n",
    "    We also train decision trees by iterating over the entire leaf count space\n",
    "    and holding the chosen_depth constant to observe the change in accuracy.\n",
    "    \n",
    "    Args: (Note that n is not the same among train and test sets, but merely refers to sample size)\n",
    "        X_train ((n,p) np.ndarray)\n",
    "        y_train ((n,) np.ndarray)\n",
    "        X_val ((n,p) np.ndarray)\n",
    "        y_val ((n,) np.ndarray)\n",
    "        X_test ((n,p) np.ndarray)\n",
    "        y_test ((n,) np.ndarray)\n",
    "\n",
    "    Returns:\n",
    "        train_acc (float): Optimal Hyperparameters Train Accuracy\n",
    "        val_acc (float): Optimal Hyperparameters Train Accuracy\n",
    "        test_acc (float): Optimal Hyperparameters Train Accuracy\n",
    "\n",
    "        leaf_count_train_scores (list): Report training scores for the entire leaf \n",
    "                                        count search space, holding chosen_depth constant\n",
    "        leaf_count_val_scores (list): Report validation scores for the entire leaf \n",
    "                                      count search space, holding chosen_depth constant\n",
    "    \"\"\"\n",
    "\n",
    "    # Select best hyperparameters\n",
    "    depth_search_space = [2, 4, 6, 8, 10, 16, 20]\n",
    "    leaf_count_search_space = [2, 3, 4, 5, 6, 7, 8, 9, 10] \n",
    "\n",
    "    chosen_depth, chosen_leaf_count = grid_search_depth_and_leaf_count(depth_search_space, \n",
    "                                                                     leaf_count_search_space, \n",
    "                                                                     X_train, \n",
    "                                                                     y_train, \n",
    "                                                                     X_val, \n",
    "                                                                     y_val)\n",
    "    model = train_decision_tree(X_train, y_train, chosen_depth, chosen_leaf_count)\n",
    "    train_acc = evaluate(predict(model, X_train) , y_train)\n",
    "    val_acc = evaluate(predict(model, X_val) , y_val)\n",
    "    test_acc = evaluate(predict(model, X_test) , y_test)\n",
    "        \n",
    "    leaf_count_train_scores = []\n",
    "    leaf_count_val_scores = []\n",
    "    for lf in leaf_count_search_space:\n",
    "        model = train_decision_tree(X_train, y_train, chosen_depth, lf)\n",
    "        train_score = evaluate(predict(model, X_train) , y_train)\n",
    "        val_score = evaluate(predict(model, X_val) , y_val)\n",
    "        leaf_count_train_scores.append(train_score)\n",
    "        leaf_count_val_scores.append(val_score)\n",
    "        \n",
    "    print(\"Optimal Hyperparameters Train Accuracy: \", train_acc)\n",
    "    print(\"Optimal Hyperparameters Validation Accuracy: \", val_acc)\n",
    "    print(\"Optimal Hyperparameters Test Accuracy: \", test_acc)\n",
    "\n",
    "    print(\"Training Scores per Max Leaf Node Count:\", leaf_count_train_scores)\n",
    "    print(\"Validation Scores per Max Leaf Node Count:\", leaf_count_val_scores)\n",
    "\n",
    "    return(train_acc, val_acc, test_acc, leaf_count_train_scores, leaf_count_val_scores)"
   ]
  },
  {
   "cell_type": "markdown",
   "metadata": {
    "colab_type": "text",
    "id": "F0BXjFYN3SCa"
   },
   "source": [
    "Run the code above for the small dataset and by uncommenting code below. Report all necessary values and both graphs on Latex."
   ]
  },
  {
   "cell_type": "code",
   "execution_count": 84,
   "metadata": {
    "colab": {},
    "colab_type": "code",
    "id": "jLJCMcNWXCwD",
    "scrolled": true
   },
   "outputs": [
    {
     "name": "stdout",
     "output_type": "stream",
     "text": [
      "Depth=2  Leaf count=2\t\tAccuracy=0.91\n",
      "Depth=2  Leaf count=3\t\tAccuracy=0.93\n",
      "Depth=2  Leaf count=4\t\tAccuracy=0.92\n",
      "Depth=2  Leaf count=5\t\tAccuracy=0.93\n",
      "Depth=2  Leaf count=6\t\tAccuracy=0.93\n",
      "Depth=2  Leaf count=7\t\tAccuracy=0.93\n",
      "Depth=2  Leaf count=8\t\tAccuracy=0.93\n",
      "Depth=2  Leaf count=9\t\tAccuracy=0.93\n",
      "Depth=2  Leaf count=10\t\tAccuracy=0.93\n",
      "Depth=4  Leaf count=2\t\tAccuracy=0.91\n",
      "Depth=4  Leaf count=3\t\tAccuracy=0.93\n",
      "Depth=4  Leaf count=4\t\tAccuracy=0.92\n",
      "Depth=4  Leaf count=5\t\tAccuracy=0.93\n",
      "Depth=4  Leaf count=6\t\tAccuracy=0.91\n",
      "Depth=4  Leaf count=7\t\tAccuracy=0.91\n",
      "Depth=4  Leaf count=8\t\tAccuracy=0.91\n",
      "Depth=4  Leaf count=9\t\tAccuracy=0.91\n",
      "Depth=4  Leaf count=10\t\tAccuracy=0.91\n",
      "Depth=6  Leaf count=2\t\tAccuracy=0.91\n",
      "Depth=6  Leaf count=3\t\tAccuracy=0.93\n",
      "Depth=6  Leaf count=4\t\tAccuracy=0.92\n",
      "Depth=6  Leaf count=5\t\tAccuracy=0.93\n",
      "Depth=6  Leaf count=6\t\tAccuracy=0.91\n",
      "Depth=6  Leaf count=7\t\tAccuracy=0.91\n",
      "Depth=6  Leaf count=8\t\tAccuracy=0.91\n",
      "Depth=6  Leaf count=9\t\tAccuracy=0.91\n",
      "Depth=6  Leaf count=10\t\tAccuracy=0.91\n",
      "Depth=8  Leaf count=2\t\tAccuracy=0.91\n",
      "Depth=8  Leaf count=3\t\tAccuracy=0.93\n",
      "Depth=8  Leaf count=4\t\tAccuracy=0.92\n",
      "Depth=8  Leaf count=5\t\tAccuracy=0.93\n",
      "Depth=8  Leaf count=6\t\tAccuracy=0.91\n",
      "Depth=8  Leaf count=7\t\tAccuracy=0.91\n",
      "Depth=8  Leaf count=8\t\tAccuracy=0.91\n",
      "Depth=8  Leaf count=9\t\tAccuracy=0.91\n",
      "Depth=8  Leaf count=10\t\tAccuracy=0.91\n",
      "Depth=10  Leaf count=2\t\tAccuracy=0.91\n",
      "Depth=10  Leaf count=3\t\tAccuracy=0.93\n",
      "Depth=10  Leaf count=4\t\tAccuracy=0.92\n",
      "Depth=10  Leaf count=5\t\tAccuracy=0.93\n",
      "Depth=10  Leaf count=6\t\tAccuracy=0.91\n",
      "Depth=10  Leaf count=7\t\tAccuracy=0.91\n",
      "Depth=10  Leaf count=8\t\tAccuracy=0.91\n",
      "Depth=10  Leaf count=9\t\tAccuracy=0.91\n",
      "Depth=10  Leaf count=10\t\tAccuracy=0.91\n",
      "Depth=16  Leaf count=2\t\tAccuracy=0.91\n",
      "Depth=16  Leaf count=3\t\tAccuracy=0.93\n",
      "Depth=16  Leaf count=4\t\tAccuracy=0.92\n",
      "Depth=16  Leaf count=5\t\tAccuracy=0.93\n",
      "Depth=16  Leaf count=6\t\tAccuracy=0.91\n",
      "Depth=16  Leaf count=7\t\tAccuracy=0.91\n",
      "Depth=16  Leaf count=8\t\tAccuracy=0.91\n",
      "Depth=16  Leaf count=9\t\tAccuracy=0.91\n",
      "Depth=16  Leaf count=10\t\tAccuracy=0.91\n",
      "Depth=20  Leaf count=2\t\tAccuracy=0.91\n",
      "Depth=20  Leaf count=3\t\tAccuracy=0.93\n",
      "Depth=20  Leaf count=4\t\tAccuracy=0.92\n",
      "Depth=20  Leaf count=5\t\tAccuracy=0.93\n",
      "Depth=20  Leaf count=6\t\tAccuracy=0.91\n",
      "Depth=20  Leaf count=7\t\tAccuracy=0.91\n",
      "Depth=20  Leaf count=8\t\tAccuracy=0.91\n",
      "Depth=20  Leaf count=9\t\tAccuracy=0.91\n",
      "Depth=20  Leaf count=10\t\tAccuracy=0.91\n",
      "Chosen Depth:  2\n",
      "Chosen Leaf:  3\n",
      "Optimal Hyperparameters Train Accuracy:  0.955\n",
      "Optimal Hyperparameters Validation Accuracy:  0.93\n",
      "Optimal Hyperparameters Test Accuracy:  0.8985507246376812\n",
      "Training Scores per Max Leaf Node Count: [0.945, 0.955, 0.96, 0.975, 0.975, 0.985, 0.985, 0.985, 0.985]\n",
      "Validation Scores per Max Leaf Node Count: [0.91, 0.93, 0.92, 0.93, 0.93, 0.93, 0.93, 0.93, 0.93]\n"
     ]
    },
    {
     "data": {
      "image/png": "[encoded data removed]",
      "text/plain": [
       "<Figure size 576x396 with 1 Axes>"
      ]
     },
     "metadata": {},
     "output_type": "display_data"
    }
   ],
   "source": [
    "# %matplotlib inline\n",
    "# _, _, _, leaf_count_train, leaf_count_val = retrain_decision_tree(X_train_small, y_train_small, X_val, y_val, X_test, y_test)\n",
    "\n",
    "# leaf_x = [2, 3, 4, 5, 6, 7, 8, 9, 10] \n",
    "# leaf_count_train = 100 * np.array(leaf_count_train)\n",
    "# leaf_count_val = 100 * np.array(leaf_count_val)\n",
    "\n",
    "# plt.style.use('seaborn')\n",
    "# plot_line_graph(leaf_x, leaf_count_train,leaf_count_val,\n",
    "#                 \"Train Accuracy\", \"Validation Accuracy\", \"Leaf Count\", \"Accuracy\", \"Accuracies for varying Leaf count\")\n"
   ]
  },
  {
   "cell_type": "markdown",
   "metadata": {
    "colab_type": "text",
    "id": "Z0-UXUer3SCd"
   },
   "source": [
    "### Question 5.3 Report on LaTeX\n",
    "Answer the followings question on LaTeX in the respective section.\n",
    "1. Report the values in your LaTeX document.\n",
    "2. How did the training accuracy and testing accuracy change after tuning compared to before? Briefly explain why.\n",
    "3. Paste the plot and explain any trends or patterns with the plot within validation and training scores and briefly explain why."
   ]
  },
  {
   "cell_type": "markdown",
   "metadata": {
    "colab_type": "text",
    "id": "G2xmO04DXCwF"
   },
   "source": [
    "# Question 6: Feature Scaling Effects on KNNs and DTs"
   ]
  },
  {
   "cell_type": "markdown",
   "metadata": {
    "colab_type": "text",
    "id": "NG7pZLBoXCwG"
   },
   "source": [
    "### Observing effects of standardizing features\n",
    "\n",
    "Up until now, we have not been using standardized features. Let's observe the effects of standardized features with decision trees and KNNs.\n",
    "\n",
    "Standardization, or feature scaling / data normalization, is a common preprocessing step for data within machine learning. We will see why it's important.\n",
    "\n",
    "Here is a definition taken from SK-Learn's website on Standardization:\n",
    "\n",
    "*Standardization of datasets is a common requirement for many machine learning estimators implemented in scikit-learn; they might behave badly if the individual features do not more or less look like standard normally distributed data: Gaussian with zero mean and unit variance.*\n",
    "\n",
    "*In practice we often ignore the shape of the distribution and just transform the data to center it by removing the mean value of each feature, then scale it by dividing non-constant features by their standard deviation.*\n",
    "\n",
    "Learn More: https://scikit-learn.org/stable/modules/preprocessing.html\n",
    "\n",
    "To start, uncomment the code below and run to retrieve the data. (Recomment before submission.)"
   ]
  },
  {
   "cell_type": "code",
   "execution_count": 85,
   "metadata": {
    "colab": {},
    "colab_type": "code",
    "id": "T5RokryGXCwH"
   },
   "outputs": [],
   "source": [
    "# # # We will also use the same breast cancer classification dataset in Task 1.\n",
    "# # # from sklearn.datasets import load_breast_cancer\n",
    "\n",
    "# breast = load_breast_cancer()\n",
    "\n",
    "# X = breast['data']\n",
    "# y = breast['target']\n",
    "\n",
    "# np.random.seed(100)\n",
    "# p = np.random.permutation(len(X))\n",
    "# X, y = X[p], y[p]\n",
    "\n",
    "# X_train, y_train = X[:400], y[:400]\n",
    "# X_val, y_val = X[400:500], y[400:500]\n",
    "# X_test, y_test = X[500:], y[500:]\n",
    "\n",
    "# # Normalize data\n",
    "# from sklearn.preprocessing import StandardScaler\n",
    "\n",
    "# scaler = StandardScaler()\n",
    "# X_train_scaled = scaler.fit_transform(X_train)\n",
    "# X_val_scaled = scaler.transform(X_val)\n",
    "# X_test_scaled = scaler.transform(X_test)"
   ]
  },
  {
   "cell_type": "markdown",
   "metadata": {
    "colab_type": "text",
    "id": "t9COC_Pa3SCg"
   },
   "source": [
    "### Helper Functions\n",
    "  \n",
    "We implemented above the KNN algorithm. Sci-kit learn also has their own version of the KNN algorithm which we will use in this following task. Use the two helper functions below in this next task."
   ]
  },
  {
   "cell_type": "code",
   "execution_count": 86,
   "metadata": {
    "colab": {},
    "colab_type": "code",
    "id": "LJvoFpqh3SCg"
   },
   "outputs": [],
   "source": [
    "from sklearn.neighbors import KNeighborsClassifier\n",
    "\n",
    "def train_KNN(X, y, norm=2, K=5):\n",
    "    \"\"\"\n",
    "    Trains a KNN classifier on the given X, y data with the specified \n",
    "    norm and K.\n",
    "\n",
    "    Args:\n",
    "        X ((n,p) np.ndarray): The input Xs, which are in an n (number of samples) by\n",
    "                              p (number of features) matrix\n",
    "        y ((n,) np.ndarray): The input ys, which are in an n length array\n",
    "        norm (int): The number form of the norm. Note that sklearn only allows L1 and L2 norms,\n",
    "                    (norm would be 1 and 2 respectively). Default is 2.\n",
    "        K (int): The value of K for the KNN algorithm. Default is 5.\n",
    "\n",
    "    Returns:\n",
    "        clf(KNeighborsClassifier): the trained KNN model\n",
    "    \"\"\"\n",
    "\n",
    "    clf = KNeighborsClassifier(n_neighbors=K, p=norm)\n",
    "    clf.fit(X,y)\n",
    "    return clf\n",
    "\n",
    "\n",
    "def train_decision_tree(X, y, depth=None, leaf_count=None):\n",
    "    \"\"\"\n",
    "    This helper function is defined again from a previous section. \n",
    "\n",
    "    Trains a decision tree classifier on the given X, y data with the specified \n",
    "    tree depth d and max leaf node count max_leaf_num.\n",
    "\n",
    "    Args:\n",
    "        X ((n,p) np.ndarray): The input Xs, which are in an n (number of samples) by\n",
    "                              p (number of features) matrix\n",
    "        y ((n,) np.ndarray): The input ys, which are in an n length array\n",
    "        depth (int): The maximum depth of the tree. A value of None means no restrictions\n",
    "                 on the depth of the tree. Default is None.\n",
    "        leaf_count (int): The maximum leaf count of the tree's leaf nodes. A value of None means \n",
    "        no restrictions on the leaf count of the tree. Default is None.\n",
    "\n",
    "    Returns:\n",
    "        clf(DecisionTreeClassifier): the trained decision tree\n",
    "    \"\"\"\n",
    "\n",
    "    clf = DecisionTreeClassifier(max_depth=depth, max_leaf_nodes=leaf_count, criterion=\"entropy\", random_state=1)\n",
    "    clf.fit(X,y)\n",
    "    return clf\n",
    "\n",
    "\n",
    "def predict(clf, X_test):\n",
    "    \"\"\"\n",
    "    This helper function is defined again from a previous section. \n",
    "\n",
    "    Uses a trained model to predict on a given test set.\n",
    "\n",
    "    Args:\n",
    "        clf (Classifier): Trained classifier such as KNN or Decision Tree\n",
    "        X_test ((n,p) np.ndarray): The input Xs, which are in an n (number of samples) by\n",
    "                                   p (number of features) matrix\n",
    "\n",
    "    Returns:\n",
    "        y_pred ((n,) np.ndarray): The output predictions, which are in an n length array\n",
    "    \"\"\"\n",
    "\n",
    "    y_pred = clf.predict(X_test)\n",
    "    return y_pred\n",
    "\n",
    "\n",
    "def evaluate(predicted_values, actual_values):\n",
    "    \"\"\"\n",
    "    This helper function is defined again from a previous section. \n",
    "    \n",
    "    Computes the accuracy of the given datapoints.\n",
    "    \n",
    "    Args:\n",
    "        predicted_values: numpy array\n",
    "        actual_values: numpy array\n",
    "    \n",
    "    Returns:\n",
    "        a floating point number representing the accuracy\n",
    "    \"\"\"\n",
    "    return accuracy_score(predicted_values, actual_values)"
   ]
  },
  {
   "cell_type": "markdown",
   "metadata": {
    "colab_type": "text",
    "id": "iVfyIhUiXCwK"
   },
   "source": [
    "### Retrieving Metrics for Unstandardized Data\n",
    "Fill out this function to retrieve training and test accuracies for both KNN and decision tree models. Use default hyperparameters."
   ]
  },
  {
   "cell_type": "code",
   "execution_count": 89,
   "metadata": {
    "colab": {},
    "colab_type": "code",
    "id": "K0XxTvHMXCwM"
   },
   "outputs": [],
   "source": [
    "def get_classifier_metrics(X_train, y_train, X_test, y_test):\n",
    "    \"\"\"\n",
    "    Create a decision tree and KNN classifer on the normal dataset.\n",
    "    Retrieve accuracy metrics using models trained on default hyperparameters:\n",
    "\n",
    "    Args: (Note that n is not the same among train and test sets, \n",
    "         but merely refers to sample size)\n",
    "        X_train ((n,p) np.ndarray)\n",
    "        y_train ((n,) np.ndarray)\n",
    "        X_test ((n,p) np.ndarray)\n",
    "        y_test ((n,) np.ndarray)\n",
    "\n",
    "    Returns:\n",
    "        knn_train_accuracy (float): Accuracy of KNN for train set\n",
    "        knn_test_accuracy (float): Accuracy of KNN for test set\n",
    "        dt_train_accuracy (float): Accuracy of DT for train set\n",
    "        dt_test_accuracy (float): Accuracy of DT for test set    \n",
    "    \"\"\"\n",
    "\n",
    "    tree_model = train_decision_tree(X_train, y_train)\n",
    "    knn_model = train_KNN(X_train, y_train)\n",
    "    \n",
    "    dt_train_accuracy = evaluate(predict(tree_model, X_train), y_train)\n",
    "    knn_train_accuracy = evaluate(predict(knn_model, X_train), y_train)\n",
    "    dt_test_accuracy = evaluate(predict(tree_model, X_test), y_test)\n",
    "    knn_test_accuracy = evaluate(predict(knn_model, X_test), y_test)\n",
    "\n",
    "    print(\"knn_train_accuracy: \", knn_train_accuracy)\n",
    "    print(\"knn_test_accuracy: \", knn_test_accuracy)\n",
    "    print(\"dt_train_accuracy: \", dt_train_accuracy)\n",
    "    print(\"dt_test_accuracy: \", dt_test_accuracy)\n",
    "\n",
    "    return knn_train_accuracy, knn_test_accuracy, dt_train_accuracy, dt_test_accuracy"
   ]
  },
  {
   "cell_type": "markdown",
   "metadata": {
    "colab_type": "text",
    "id": "rF3Jmuy53SCk"
   },
   "source": [
    "Uncomment the code below and run the code (remember to recomment before submitting)."
   ]
  },
  {
   "cell_type": "code",
   "execution_count": 90,
   "metadata": {
    "colab": {},
    "colab_type": "code",
    "id": "kWS33o6OXCwO"
   },
   "outputs": [
    {
     "name": "stdout",
     "output_type": "stream",
     "text": [
      "FOR UNSTANDARDIZED DATA\n",
      "knn_train_accuracy:  0.9475\n",
      "knn_test_accuracy:  0.8985507246376812\n",
      "dt_train_accuracy:  1.0\n",
      "dt_test_accuracy:  0.9130434782608695\n",
      "\n",
      "FOR STANDARDIZED DATA\n",
      "knn_train_accuracy:  0.9775\n",
      "knn_test_accuracy:  0.9565217391304348\n",
      "dt_train_accuracy:  1.0\n",
      "dt_test_accuracy:  0.9130434782608695\n"
     ]
    },
    {
     "data": {
      "text/plain": [
       "(0.9775, 0.9565217391304348, 1.0, 0.9130434782608695)"
      ]
     },
     "execution_count": 90,
     "metadata": {},
     "output_type": "execute_result"
    }
   ],
   "source": [
    "# print(\"FOR UNSTANDARDIZED DATA\")\n",
    "# get_classifier_metrics(X_train, y_train, X_test, y_test)\n",
    "\n",
    "# print(\"\\nFOR STANDARDIZED DATA\")\n",
    "# get_classifier_metrics(X_train_scaled, y_train, X_test_scaled, y_test)"
   ]
  },
  {
   "cell_type": "markdown",
   "metadata": {
    "colab_type": "text",
    "id": "-ZCmPf0G3SCn"
   },
   "source": [
    "### Question 6 Report in LaTeX\n",
    "Answer the following questions in your LaTeX document.\n",
    "1. Report the values in LaTeX.\n",
    "2. What happens to performance when we use standardization for data with decision trees? What about KNN? Briefly explain why each happened."
   ]
  },
  {
   "cell_type": "markdown",
   "metadata": {
    "colab_type": "text",
    "id": "IjqhKS-oXCwR"
   },
   "source": [
    "# Turning it in\n",
    "\n",
    "\n",
    "**Remember to recomment all script portions of this notebook before submitting (i.e. any code not in a function, excluding code that imports libraries). This is to ensure that the Autograder works properly. Also make sure you did not edit other sections of the code outside of specified areas.**\n",
    "\n",
    "1. Download this notebook as a `hw1.py` file with the functions implemented and the sandbox code commented out\n",
    "  - If using Google Colab, go to \"File -> Download .py\"\n",
    "  - If using Jupyter locally, go to \"File -> Download as -> Python (.py)\"\n",
    "  \n",
    "2. Submit `hw1.py` file to Gradescope (you can do this as many times as you'd like before the deadline)"
   ]
  }
 ],
 "metadata": {
  "colab": {
   "collapsed_sections": [],
   "name": "hw1.ipynb",
   "provenance": [],
   "version": "0.3.2"
  },
  "kernelspec": {
   "display_name": "Python 3",
   "language": "python",
   "name": "python3"
  },
  "language_info": {
   "codemirror_mode": {
    "name": "ipython",
    "version": 3
   },
   "file_extension": ".py",
   "mimetype": "text/x-python",
   "name": "python",
   "nbconvert_exporter": "python",
   "pygments_lexer": "ipython3",
   "version": "3.6.8"
  }
 },
 "nbformat": 4,
 "nbformat_minor": 1
}
