{
  "nbformat": 4,
  "nbformat_minor": 0,
  "metadata": {
    "colab": {
      "name": "CIS520-Project.ipynb",
      "provenance": [],
      "collapsed_sections": [
        "J0AF0sJvRixT",
        "vIRJbIDABeHq",
        "BEunsCP9tOZC",
        "YDCl1b85tqY-",
        "WEDn4DiLtGNN"
      ],
      "include_colab_link": true
    },
    "kernelspec": {
      "name": "python3",
      "display_name": "Python 3"
    },
    "accelerator": "GPU"
  },
  "cells": [
    {
      "cell_type": "markdown",
      "metadata": {
        "id": "view-in-github",
        "colab_type": "text"
      },
      "source": [
        "<a href=\"https://colab.research.google.com/github/rahul13ramesh/cis520-dataset/blob/master/CIS520_Project.ipynb\" target=\"_parent\"><img src=\"https://colab.research.google.com/assets/colab-badge.svg\" alt=\"Open In Colab\"/></a>"
      ]
    },
    {
      "cell_type": "markdown",
      "metadata": {
        "id": "FmR8r-op-R7D",
        "colab_type": "text"
      },
      "source": [
        "# CIS-520 Project -[What's cooking](https://www.kaggle.com/c/whats-cooking-kernels-only)\n",
        "\n",
        "* This notebook looks at the Kaggle contest *What's cooking*. We tackle a supervised and unsupervised learning problem using this dataset\n",
        "* The input features are a collection of words and hence NLP techniques are used to build useful features for the downstream task"
      ]
    },
    {
      "cell_type": "code",
      "metadata": {
        "id": "UNDnjIe2Qy7H",
        "colab_type": "code",
        "outputId": "959c13bb-c3c3-4600-90d5-80834bd35710",
        "colab": {
          "base_uri": "https://localhost:8080/",
          "height": 790
        }
      },
      "source": [
        "!pip install pywaffle\n",
        "!git clone https://github.com/amueller/word_cloud.git\n",
        "!cd word_cloud && pip install ."
      ],
      "execution_count": 2,
      "outputs": [
        {
          "output_type": "stream",
          "text": [
            "Collecting pywaffle\n",
            "\u001b[?25l  Downloading https://files.pythonhosted.org/packages/a3/23/45e4084c3ddc0b1d6c10fd3cfb5d74a19c8d20d664e9a5760efbf2661b3d/pywaffle-0.4.1-py2.py3-none-any.whl (524kB)\n",
            "\r\u001b[K     |▋                               | 10kB 16.7MB/s eta 0:00:01\r\u001b[K     |█▎                              | 20kB 1.8MB/s eta 0:00:01\r\u001b[K     |█▉                              | 30kB 2.6MB/s eta 0:00:01\r\u001b[K     |██▌                             | 40kB 1.7MB/s eta 0:00:01\r\u001b[K     |███▏                            | 51kB 2.1MB/s eta 0:00:01\r\u001b[K     |███▊                            | 61kB 2.5MB/s eta 0:00:01\r\u001b[K     |████▍                           | 71kB 2.9MB/s eta 0:00:01\r\u001b[K     |█████                           | 81kB 3.3MB/s eta 0:00:01\r\u001b[K     |█████▋                          | 92kB 3.7MB/s eta 0:00:01\r\u001b[K     |██████▎                         | 102kB 2.8MB/s eta 0:00:01\r\u001b[K     |██████▉                         | 112kB 2.8MB/s eta 0:00:01\r\u001b[K     |███████▌                        | 122kB 2.8MB/s eta 0:00:01\r\u001b[K     |████████▏                       | 133kB 2.8MB/s eta 0:00:01\r\u001b[K     |████████▊                       | 143kB 2.8MB/s eta 0:00:01\r\u001b[K     |█████████▍                      | 153kB 2.8MB/s eta 0:00:01\r\u001b[K     |██████████                      | 163kB 2.8MB/s eta 0:00:01\r\u001b[K     |██████████▋                     | 174kB 2.8MB/s eta 0:00:01\r\u001b[K     |███████████▎                    | 184kB 2.8MB/s eta 0:00:01\r\u001b[K     |███████████▉                    | 194kB 2.8MB/s eta 0:00:01\r\u001b[K     |████████████▌                   | 204kB 2.8MB/s eta 0:00:01\r\u001b[K     |█████████████▏                  | 215kB 2.8MB/s eta 0:00:01\r\u001b[K     |█████████████▊                  | 225kB 2.8MB/s eta 0:00:01\r\u001b[K     |██████████████▍                 | 235kB 2.8MB/s eta 0:00:01\r\u001b[K     |███████████████                 | 245kB 2.8MB/s eta 0:00:01\r\u001b[K     |███████████████▋                | 256kB 2.8MB/s eta 0:00:01\r\u001b[K     |████████████████▎               | 266kB 2.8MB/s eta 0:00:01\r\u001b[K     |████████████████▉               | 276kB 2.8MB/s eta 0:00:01\r\u001b[K     |█████████████████▌              | 286kB 2.8MB/s eta 0:00:01\r\u001b[K     |██████████████████▏             | 296kB 2.8MB/s eta 0:00:01\r\u001b[K     |██████████████████▊             | 307kB 2.8MB/s eta 0:00:01\r\u001b[K     |███████████████████▍            | 317kB 2.8MB/s eta 0:00:01\r\u001b[K     |████████████████████            | 327kB 2.8MB/s eta 0:00:01\r\u001b[K     |████████████████████▋           | 337kB 2.8MB/s eta 0:00:01\r\u001b[K     |█████████████████████▎          | 348kB 2.8MB/s eta 0:00:01\r\u001b[K     |█████████████████████▉          | 358kB 2.8MB/s eta 0:00:01\r\u001b[K     |██████████████████████▌         | 368kB 2.8MB/s eta 0:00:01\r\u001b[K     |███████████████████████         | 378kB 2.8MB/s eta 0:00:01\r\u001b[K     |███████████████████████▊        | 389kB 2.8MB/s eta 0:00:01\r\u001b[K     |████████████████████████▍       | 399kB 2.8MB/s eta 0:00:01\r\u001b[K     |█████████████████████████       | 409kB 2.8MB/s eta 0:00:01\r\u001b[K     |█████████████████████████▋      | 419kB 2.8MB/s eta 0:00:01\r\u001b[K     |██████████████████████████▎     | 430kB 2.8MB/s eta 0:00:01\r\u001b[K     |██████████████████████████▉     | 440kB 2.8MB/s eta 0:00:01\r\u001b[K     |███████████████████████████▌    | 450kB 2.8MB/s eta 0:00:01\r\u001b[K     |████████████████████████████    | 460kB 2.8MB/s eta 0:00:01\r\u001b[K     |████████████████████████████▊   | 471kB 2.8MB/s eta 0:00:01\r\u001b[K     |█████████████████████████████▍  | 481kB 2.8MB/s eta 0:00:01\r\u001b[K     |██████████████████████████████  | 491kB 2.8MB/s eta 0:00:01\r\u001b[K     |██████████████████████████████▋ | 501kB 2.8MB/s eta 0:00:01\r\u001b[K     |███████████████████████████████▎| 512kB 2.8MB/s eta 0:00:01\r\u001b[K     |███████████████████████████████▉| 522kB 2.8MB/s eta 0:00:01\r\u001b[K     |████████████████████████████████| 532kB 2.8MB/s \n",
            "\u001b[?25hRequirement already satisfied: matplotlib in /usr/local/lib/python3.6/dist-packages (from pywaffle) (3.1.1)\n",
            "Requirement already satisfied: kiwisolver>=1.0.1 in /usr/local/lib/python3.6/dist-packages (from matplotlib->pywaffle) (1.1.0)\n",
            "Requirement already satisfied: python-dateutil>=2.1 in /usr/local/lib/python3.6/dist-packages (from matplotlib->pywaffle) (2.6.1)\n",
            "Requirement already satisfied: pyparsing!=2.0.4,!=2.1.2,!=2.1.6,>=2.0.1 in /usr/local/lib/python3.6/dist-packages (from matplotlib->pywaffle) (2.4.5)\n",
            "Requirement already satisfied: numpy>=1.11 in /usr/local/lib/python3.6/dist-packages (from matplotlib->pywaffle) (1.17.4)\n",
            "Requirement already satisfied: cycler>=0.10 in /usr/local/lib/python3.6/dist-packages (from matplotlib->pywaffle) (0.10.0)\n",
            "Requirement already satisfied: setuptools in /usr/local/lib/python3.6/dist-packages (from kiwisolver>=1.0.1->matplotlib->pywaffle) (41.6.0)\n",
            "Requirement already satisfied: six>=1.5 in /usr/local/lib/python3.6/dist-packages (from python-dateutil>=2.1->matplotlib->pywaffle) (1.12.0)\n",
            "Installing collected packages: pywaffle\n",
            "Successfully installed pywaffle-0.4.1\n",
            "Cloning into 'word_cloud'...\n",
            "remote: Enumerating objects: 378, done.\u001b[K\n",
            "remote: Counting objects: 100% (378/378), done.\u001b[K\n",
            "remote: Compressing objects: 100% (204/204), done.\u001b[K\n",
            "remote: Total 4070 (delta 202), reused 317 (delta 163), pack-reused 3692\u001b[K\n",
            "Receiving objects: 100% (4070/4070), 77.39 MiB | 13.52 MiB/s, done.\n",
            "Resolving deltas: 100% (2258/2258), done.\n",
            "Processing /content/word_cloud\n",
            "Requirement already satisfied: numpy>=1.6.1 in /usr/local/lib/python3.6/dist-packages (from wordcloud==1.6.0.post1+g8217e20) (1.17.4)\n",
            "Requirement already satisfied: pillow in /usr/local/lib/python3.6/dist-packages (from wordcloud==1.6.0.post1+g8217e20) (4.3.0)\n",
            "Requirement already satisfied: matplotlib in /usr/local/lib/python3.6/dist-packages (from wordcloud==1.6.0.post1+g8217e20) (3.1.1)\n",
            "Requirement already satisfied: olefile in /usr/local/lib/python3.6/dist-packages (from pillow->wordcloud==1.6.0.post1+g8217e20) (0.46)\n",
            "Requirement already satisfied: cycler>=0.10 in /usr/local/lib/python3.6/dist-packages (from matplotlib->wordcloud==1.6.0.post1+g8217e20) (0.10.0)\n",
            "Requirement already satisfied: python-dateutil>=2.1 in /usr/local/lib/python3.6/dist-packages (from matplotlib->wordcloud==1.6.0.post1+g8217e20) (2.6.1)\n",
            "Requirement already satisfied: kiwisolver>=1.0.1 in /usr/local/lib/python3.6/dist-packages (from matplotlib->wordcloud==1.6.0.post1+g8217e20) (1.1.0)\n",
            "Requirement already satisfied: pyparsing!=2.0.4,!=2.1.2,!=2.1.6,>=2.0.1 in /usr/local/lib/python3.6/dist-packages (from matplotlib->wordcloud==1.6.0.post1+g8217e20) (2.4.5)\n",
            "Requirement already satisfied: six in /usr/local/lib/python3.6/dist-packages (from cycler>=0.10->matplotlib->wordcloud==1.6.0.post1+g8217e20) (1.12.0)\n",
            "Requirement already satisfied: setuptools in /usr/local/lib/python3.6/dist-packages (from kiwisolver>=1.0.1->matplotlib->wordcloud==1.6.0.post1+g8217e20) (41.6.0)\n",
            "Building wheels for collected packages: wordcloud\n",
            "  Building wheel for wordcloud (setup.py) ... \u001b[?25l\u001b[?25hdone\n",
            "  Created wheel for wordcloud: filename=wordcloud-1.6.0.post1+g8217e20-cp36-cp36m-linux_x86_64.whl size=335557 sha256=86f7453614eb90b323b2de37c0f0c50f831ec7345bb9bf6e673387434273529e\n",
            "  Stored in directory: /tmp/pip-ephem-wheel-cache-f1vxnzgo/wheels/c9/9e/fe/b14c026a2af072dcf59543bce68dcdfff8a5362e6bb11242d9\n",
            "Successfully built wordcloud\n",
            "Installing collected packages: wordcloud\n",
            "  Found existing installation: wordcloud 1.5.0\n",
            "    Uninstalling wordcloud-1.5.0:\n",
            "      Successfully uninstalled wordcloud-1.5.0\n",
            "Successfully installed wordcloud-1.6.0.post1+g8217e20\n"
          ],
          "name": "stdout"
        }
      ]
    },
    {
      "cell_type": "code",
      "metadata": {
        "id": "vWmY91JiLZ4l",
        "colab_type": "code",
        "colab": {}
      },
      "source": [
        "import numpy as np\n",
        "import pandas as pd\n",
        "import urllib\n",
        "import matplotlib.pyplot as plt\n",
        "import json\n",
        "import unicodedata\n",
        "import re\n",
        "import seaborn as sns\n",
        "import nltk\n",
        "from nltk.stem import PorterStemmer\n",
        "from nltk.stem import LancasterStemmer\n",
        "from nltk.stem import WordNetLemmatizer\n",
        "from wordcloud import WordCloud, STOPWORDS, ImageColorGenerator\n",
        "from pywaffle import Waffle"
      ],
      "execution_count": 0,
      "outputs": []
    },
    {
      "cell_type": "code",
      "metadata": {
        "id": "g3jEKYoZNaHv",
        "colab_type": "code",
        "outputId": "6c0a8044-f08b-42ef-e290-16cba10a3aa9",
        "colab": {
          "base_uri": "https://localhost:8080/",
          "height": 421
        }
      },
      "source": [
        "!wget https://raw.githubusercontent.com/rahul13ramesh/cis520-dataset/master/test.json\n",
        "!wget https://raw.githubusercontent.com/rahul13ramesh/cis520-dataset/master/train.json"
      ],
      "execution_count": 4,
      "outputs": [
        {
          "output_type": "stream",
          "text": [
            "--2019-12-01 23:18:32--  https://raw.githubusercontent.com/rahul13ramesh/cis520-dataset/master/test.json\n",
            "Resolving raw.githubusercontent.com (raw.githubusercontent.com)... 151.101.0.133, 151.101.64.133, 151.101.128.133, ...\n",
            "Connecting to raw.githubusercontent.com (raw.githubusercontent.com)|151.101.0.133|:443... connected.\n",
            "HTTP request sent, awaiting response... 200 OK\n",
            "Length: 2844086 (2.7M) [text/plain]\n",
            "Saving to: ‘test.json’\n",
            "\n",
            "test.json           100%[===================>]   2.71M  --.-KB/s    in 0.1s    \n",
            "\n",
            "2019-12-01 23:18:33 (26.9 MB/s) - ‘test.json’ saved [2844086/2844086]\n",
            "\n",
            "--2019-12-01 23:18:35--  https://raw.githubusercontent.com/rahul13ramesh/cis520-dataset/master/train.json\n",
            "Resolving raw.githubusercontent.com (raw.githubusercontent.com)... 151.101.0.133, 151.101.64.133, 151.101.128.133, ...\n",
            "Connecting to raw.githubusercontent.com (raw.githubusercontent.com)|151.101.0.133|:443... connected.\n",
            "HTTP request sent, awaiting response... 200 OK\n",
            "Length: 12415067 (12M) [text/plain]\n",
            "Saving to: ‘train.json’\n",
            "\n",
            "train.json          100%[===================>]  11.84M  74.2MB/s    in 0.2s    \n",
            "\n",
            "2019-12-01 23:18:36 (74.2 MB/s) - ‘train.json’ saved [12415067/12415067]\n",
            "\n"
          ],
          "name": "stdout"
        }
      ]
    },
    {
      "cell_type": "markdown",
      "metadata": {
        "id": "zloB0kDdA1k-",
        "colab_type": "text"
      },
      "source": [
        "# Loading dataset\n",
        "We load the dataset and display a single entry from this dataset"
      ]
    },
    {
      "cell_type": "code",
      "metadata": {
        "id": "nXbqhyiANecj",
        "colab_type": "code",
        "colab": {}
      },
      "source": [
        "with open(\"test.json\", \"r\") as f:\n",
        "    test_data = json.load(f)\n",
        "with open(\"train.json\", \"r\") as f:\n",
        "    train_data = json.load(f)\n",
        "train_data_df = pd.DataFrame(train_data)\n",
        "test_data_df = pd.DataFrame(test_data)"
      ],
      "execution_count": 0,
      "outputs": []
    },
    {
      "cell_type": "code",
      "metadata": {
        "id": "g1KgSaTuNiGi",
        "colab_type": "code",
        "colab": {
          "base_uri": "https://localhost:8080/",
          "height": 219
        },
        "outputId": "38e13be6-bd7a-4e2c-c3fd-9e89d400c037"
      },
      "source": [
        "train_data[0]"
      ],
      "execution_count": 6,
      "outputs": [
        {
          "output_type": "execute_result",
          "data": {
            "text/plain": [
              "{'cuisine': 'greek',\n",
              " 'id': 10259,\n",
              " 'ingredients': ['romaine lettuce',\n",
              "  'black olives',\n",
              "  'grape tomatoes',\n",
              "  'garlic',\n",
              "  'pepper',\n",
              "  'purple onion',\n",
              "  'seasoning',\n",
              "  'garbanzo beans',\n",
              "  'feta cheese crumbles']}"
            ]
          },
          "metadata": {
            "tags": []
          },
          "execution_count": 6
        }
      ]
    },
    {
      "cell_type": "markdown",
      "metadata": {
        "id": "J0AF0sJvRixT",
        "colab_type": "text"
      },
      "source": [
        "# Data analysis and Visualization\n",
        "\n",
        "The aim of this analysis is as follows:\n",
        "\n",
        "* Gain an understanding of the dataset, distribution of labels and number of data points. \n",
        "* Look for potentially useful features that can help an classifier achieve higher accuracies.\n",
        "* Look for anamolies in data that need to be handled through data pre-processing and cleaning. "
      ]
    },
    {
      "cell_type": "markdown",
      "metadata": {
        "id": "vIRJbIDABeHq",
        "colab_type": "text"
      },
      "source": [
        "### Preliminary Understanding of Data"
      ]
    },
    {
      "cell_type": "code",
      "metadata": {
        "id": "ZCw2sT6MVBOD",
        "colab_type": "code",
        "colab": {
          "base_uri": "https://localhost:8080/",
          "height": 0
        },
        "outputId": "ee00c6f4-145b-48da-d407-39cde0ce1d15"
      },
      "source": [
        "train_data_df = pd.DataFrame(train_data)\n",
        "test_data_df = pd.DataFrame(test_data)\n",
        "cuisines = train_data_df[\"cuisine\"].unique()\n",
        "print(\"Data size: \" + str(train_data_df.shape))\n",
        "print(\"Numerb of cuisines: \", str(len(cuisines)))"
      ],
      "execution_count": 7,
      "outputs": [
        {
          "output_type": "stream",
          "text": [
            "Data size: (39774, 3)\n",
            "Numerb of cuisines:  20\n"
          ],
          "name": "stdout"
        }
      ]
    },
    {
      "cell_type": "code",
      "metadata": {
        "id": "O8cwK_MHbY2c",
        "colab_type": "code",
        "colab": {}
      },
      "source": [
        "train_data_df.groupby(by='cuisine').count().sort_values(by='ingredients',ascending=False)"
      ],
      "execution_count": 0,
      "outputs": []
    },
    {
      "cell_type": "code",
      "metadata": {
        "id": "0bDfxuO9Hu-7",
        "colab_type": "code",
        "colab": {}
      },
      "source": [
        "print(train_data_df.head())"
      ],
      "execution_count": 0,
      "outputs": []
    },
    {
      "cell_type": "code",
      "metadata": {
        "id": "XrZpXP2pHvIR",
        "colab_type": "code",
        "colab": {}
      },
      "source": [
        "# Waffle Plot of data distribution\n",
        "class_data = train_data_df.cuisine.value_counts()\n",
        "class_data = ((class_data)*100) // class_data.values.sum()\n",
        "colors = [plt.cm.Spectral(i/float(len(cuisines))) for i in range(len(cuisines))]\n",
        "np.random.seed(5)\n",
        "np.random.shuffle(colors)\n",
        "\n",
        "plt.figure(\n",
        "    figsize=(10, 12),\n",
        "    FigureClass=Waffle, \n",
        "    rows=6,\n",
        "    legend={'loc': 'upper left', 'bbox_to_anchor': (1.05, 1), 'fontsize': 9, 'title':'Class', 'ncol': 2},\n",
        "    values=class_data.values,\n",
        "    labels=list(class_data.index),\n",
        "    colors=colors\n",
        ")\n",
        "plt.show()"
      ],
      "execution_count": 0,
      "outputs": []
    },
    {
      "cell_type": "markdown",
      "metadata": {
        "id": "BEunsCP9tOZC",
        "colab_type": "text"
      },
      "source": [
        "### Analysis of Recipes"
      ]
    },
    {
      "cell_type": "code",
      "metadata": {
        "id": "NBD_D3AHB2PI",
        "colab_type": "code",
        "colab": {}
      },
      "source": [
        "# Get space seperated text of all the ingredients\n",
        "text = ''\n",
        "for i in range(train_data_df.shape[0]):\n",
        "    text = text + \" \" + ' '.join(train_data_df.iloc[i, 2])\n",
        "\n",
        "# Get all ingredients as a list (along with cuisine, and number of ingredients for each ingredient)\n",
        "text_list = []\n",
        "text_list_cuisine = []\n",
        "text_list_num = []\n",
        "for i in range(train_data_df.shape[0]):\n",
        "    text_list = text_list + train_data_df.iloc[i, 2]\n",
        "    len_ing = len(train_data_df.iloc[i, 2])\n",
        "    text_list_cuisine = text_list_cuisine + [train_data_df.iloc[i, 1] for i in range(len_ing)]\n",
        "    text_list_num = text_list_num + [len_ing for i in range(len_ing)]"
      ],
      "execution_count": 0,
      "outputs": []
    },
    {
      "cell_type": "code",
      "metadata": {
        "id": "ejBivkR-Cqwa",
        "colab_type": "code",
        "colab": {}
      },
      "source": [
        "def get_ingredients(cuisine_val):\n",
        "    \"\"\"\n",
        "    Get all the ingredients for a particular cuisine\n",
        "    \"\"\"\n",
        "    text = ''\n",
        "    for i in range(train_data_df.shape[0]):\n",
        "        if cuisine_val == train_data_df.iloc[i, 1]:\n",
        "            text = text + \" \" + ' '.join(train_data_df.iloc[i, 2])\n",
        "    return text\n",
        "    \n",
        "def get_num_ingredients(cuisine_val):\n",
        "    \"\"\"\n",
        "    Get the number of ingredients of each recipe for a particular cuisine\n",
        "    \"\"\"\n",
        "    num = []\n",
        "    for i in range(train_data_df.shape[0]):\n",
        "        if cuisine_val == train_data_df.iloc[i, 1]:\n",
        "            num.append(len(train_data_df.iloc[i,2]))\n",
        "    return num\n",
        "\n",
        "def plot_word_cloud(txt, coloc=True):\n",
        "    \"\"\"\n",
        "    Plot the word cloud corresponding to some text\n",
        "    \"\"\"\n",
        "    wordcloud = WordCloud(background_color=\"white\", collocations=coloc).generate(txt)\n",
        "    plt.figure(figsize = (7, 7))\n",
        "    plt.imshow(wordcloud, interpolation='bilinear')\n",
        "    plt.axis(\"off\")\n",
        "    plt.show()"
      ],
      "execution_count": 0,
      "outputs": []
    },
    {
      "cell_type": "markdown",
      "metadata": {
        "id": "EJ200dr6HJ8_",
        "colab_type": "text"
      },
      "source": [
        "We first plot word clouds based on the ingredients to understand the nature of the data"
      ]
    },
    {
      "cell_type": "code",
      "metadata": {
        "id": "CHBF2-EiRhIp",
        "colab_type": "code",
        "colab": {}
      },
      "source": [
        "# Plot word cloud for entire data\n",
        "plot_word_cloud(text,True)"
      ],
      "execution_count": 0,
      "outputs": []
    },
    {
      "cell_type": "markdown",
      "metadata": {
        "id": "zJ06hVjcIaWh",
        "colab_type": "text"
      },
      "source": [
        "We next look at the word-clouds in a per cuisine granularity. The visualizations show that the key ingredients in a recipes vary significantly with the cuisine"
      ]
    },
    {
      "cell_type": "code",
      "metadata": {
        "id": "fBTcYtmQD9WR",
        "colab_type": "code",
        "colab": {}
      },
      "source": [
        "cuisine_ingredients = {}\n",
        "cuisine_numbers = {}\n",
        "for c in cuisines:\n",
        "    cuisine_ingredients[c] = get_ingredients(c)\n",
        "    cuisine_numbers[c] = get_num_ingredients(c)"
      ],
      "execution_count": 0,
      "outputs": []
    },
    {
      "cell_type": "code",
      "metadata": {
        "id": "Vn9wwb-bEVtC",
        "colab_type": "code",
        "colab": {}
      },
      "source": [
        "plot_word_cloud(cuisine_ingredients['indian'])"
      ],
      "execution_count": 0,
      "outputs": []
    },
    {
      "cell_type": "code",
      "metadata": {
        "id": "IzpPZSQTFCQy",
        "colab_type": "code",
        "colab": {}
      },
      "source": [
        "plot_word_cloud(cuisine_ingredients['italian'])"
      ],
      "execution_count": 0,
      "outputs": []
    },
    {
      "cell_type": "code",
      "metadata": {
        "id": "Ekuzq5s6FMaW",
        "colab_type": "code",
        "colab": {}
      },
      "source": [
        "plot_word_cloud(cuisine_ingredients['mexican'])"
      ],
      "execution_count": 0,
      "outputs": []
    },
    {
      "cell_type": "markdown",
      "metadata": {
        "id": "siDJ_gJTIBUI",
        "colab_type": "text"
      },
      "source": [
        "Next we look use Violin-plots (box plots) to understand how  the number of ingredients varies with cuisine. The plots indicate that this feature can be used a useful feature for a classifier."
      ]
    },
    {
      "cell_type": "code",
      "metadata": {
        "id": "77Ro61SDFnLF",
        "colab_type": "code",
        "colab": {}
      },
      "source": [
        "cuisine_num_array = []\n",
        "cuisine_val = []\n",
        "for c in cuisines:\n",
        "    cuisine_num_array = cuisine_num_array + cuisine_numbers[c]\n",
        "    cuisine_val = cuisine_val + [c for _ in range(len(cuisine_numbers[c]))]\n",
        "cuisine_number_df = pd.DataFrame([cuisine_num_array, cuisine_val]).T\n",
        "cuisine_number_df.columns = [\"Number of Ingredients\", \"Cuisine\"]\n",
        "cuisine_number_df[\"Number of Ingredients\"] = pd.to_numeric(cuisine_number_df[\"Number of Ingredients\"])\n",
        "\n",
        "plt.figure(figsize=(18,5))\n",
        "sns.violinplot(x=\"Cuisine\", y=\"Number of Ingredients\", data=cuisine_number_df)\n",
        "\n",
        "plt.figure(figsize=(18,5))\n",
        "sns.violinplot(x=\"Cuisine\", y=\"Number of Ingredients\", data=cuisine_number_df[cuisine_number_df[\"Number of Ingredients\"] <= 25])\n",
        "plt.show()"
      ],
      "execution_count": 0,
      "outputs": []
    },
    {
      "cell_type": "code",
      "metadata": {
        "id": "HIacPYavemOs",
        "colab_type": "code",
        "colab": {}
      },
      "source": [
        "long_ingredients = []\n",
        "small_ingredients1 = []\n",
        "small_ingredients2 = []\n",
        "small_ingredients3 = []\n",
        "for i in range(train_data_df.shape[0]):\n",
        "    ing =  train_data_df.iloc[i, 2]\n",
        "    if len(ing) >= 30:\n",
        "        long_ingredients.append((ing, train_data_df.iloc[i, 1]))\n",
        "    elif len(ing) == 1:\n",
        "        small_ingredients1.append((ing, train_data_df.iloc[i, 1]))\n",
        "    elif len(ing) == 2:\n",
        "        small_ingredients2.append((ing, train_data_df.iloc[i, 1]))\n",
        "    elif len(ing) == 3:\n",
        "        small_ingredients3.append((ing, train_data_df.iloc[i, 1]))"
      ],
      "execution_count": 0,
      "outputs": []
    },
    {
      "cell_type": "code",
      "metadata": {
        "id": "N4ItM-vagPcU",
        "colab_type": "code",
        "colab": {}
      },
      "source": [
        "print(\"Number of long ingredients: \" + str(len(long_ingredients)))\n",
        "print(\"Number of short ingredients: \" + str(len(small_ingredients1)))\n",
        "print(\"Number of short ingredients: \" + str(len(small_ingredients2)))\n",
        "print(\"Number of short ingredients: \" + str(len(small_ingredients3)))"
      ],
      "execution_count": 0,
      "outputs": []
    },
    {
      "cell_type": "code",
      "metadata": {
        "id": "abZQCPNsg_16",
        "colab_type": "code",
        "colab": {}
      },
      "source": [
        "small_ingredients1\n",
        "# Remove elements with just 1 ingredients, clearly"
      ],
      "execution_count": 0,
      "outputs": []
    },
    {
      "cell_type": "code",
      "metadata": {
        "id": "WKHxh9iLhY27",
        "colab_type": "code",
        "colab": {}
      },
      "source": [
        "small_ingredients2[0:5]"
      ],
      "execution_count": 0,
      "outputs": []
    },
    {
      "cell_type": "code",
      "metadata": {
        "id": "7v_b6QJ4hZDA",
        "colab_type": "code",
        "colab": {}
      },
      "source": [
        "small_ingredients3[0:5]"
      ],
      "execution_count": 0,
      "outputs": []
    },
    {
      "cell_type": "code",
      "metadata": {
        "id": "Vt6F55L0iOSf",
        "colab_type": "code",
        "colab": {}
      },
      "source": [
        "print(long_ingredients[0])"
      ],
      "execution_count": 0,
      "outputs": []
    },
    {
      "cell_type": "markdown",
      "metadata": {
        "id": "YDCl1b85tqY-",
        "colab_type": "text"
      },
      "source": [
        "### Understanding Individual Ingredient / Tokens"
      ]
    },
    {
      "cell_type": "code",
      "metadata": {
        "id": "r0sS8a_By1F7",
        "colab_type": "code",
        "colab": {}
      },
      "source": [
        "text_analysis = text.lower()\n",
        "# Remove elements\n",
        "rem_elems = [\"lb.\", \"oz.\", \"inch\", \"%\", \"™\", \"®\",  \"€\", \"(\", \")\", \",\"]\n",
        "for e in rem_elems:\n",
        "    text_analysis = text_analysis.replace(e, \" \")\n",
        "text_analysis = text_analysis.replace(\"’\", \"'\")\n",
        "text_analysis = ''.join([i for i in text_analysis if not i.isdigit()])\n",
        "ing_analysis = text_analysis.split()"
      ],
      "execution_count": 0,
      "outputs": []
    },
    {
      "cell_type": "code",
      "metadata": {
        "id": "7HMU3oJ_3pv2",
        "colab_type": "code",
        "colab": {}
      },
      "source": [
        "word_counts = []\n",
        "print(\"Number of Ingredients: \" + str(len(set(ing_analysis))))\n",
        "for x in set(ing_analysis):\n",
        "    word_counts.append((ing_analysis.count(x), x))"
      ],
      "execution_count": 0,
      "outputs": []
    },
    {
      "cell_type": "code",
      "metadata": {
        "id": "ghpe2UrP5ltC",
        "colab_type": "code",
        "colab": {}
      },
      "source": [
        "sorted(word_counts, reverse=True)[0:10]"
      ],
      "execution_count": 0,
      "outputs": []
    },
    {
      "cell_type": "code",
      "metadata": {
        "id": "HyB2V3kS6FQU",
        "colab_type": "code",
        "colab": {}
      },
      "source": [
        "ing_count_df = pd.DataFrame(word_counts)\n",
        "ing_count_df.columns = [\"Count\", \"Ingredient\"]"
      ],
      "execution_count": 0,
      "outputs": []
    },
    {
      "cell_type": "code",
      "metadata": {
        "id": "n5w3YSvY77-K",
        "colab_type": "code",
        "colab": {}
      },
      "source": [
        "sns.countplot(data=ing_count_df[ing_count_df.Count <= 30], x=\"Count\")\n",
        "# About 600 entries"
      ],
      "execution_count": 0,
      "outputs": []
    },
    {
      "cell_type": "markdown",
      "metadata": {
        "id": "WEDn4DiLtGNN",
        "colab_type": "text"
      },
      "source": [
        "### Understanding character Set"
      ]
    },
    {
      "cell_type": "markdown",
      "metadata": {
        "id": "k_bHh4nSHQz7",
        "colab_type": "text"
      },
      "source": [
        "We now look to get an understanding of the frequency of occurence of words in an ingredient. In particular we would like to look at ingredients with special characters."
      ]
    },
    {
      "cell_type": "code",
      "metadata": {
        "id": "OfWpoBn4HWHh",
        "colab_type": "code",
        "colab": {}
      },
      "source": [
        "print(' '.join(sorted(set(text))))\n",
        "# Convert upper case to lower case"
      ],
      "execution_count": 0,
      "outputs": []
    },
    {
      "cell_type": "code",
      "metadata": {
        "id": "7gP3FEY4cp3L",
        "colab_type": "code",
        "colab": {}
      },
      "source": [
        "count = 0\n",
        "digit_char = []\n",
        "\n",
        "for ing, num, cuisine  in zip(text_list, text_list_num, text_list_cuisine):\n",
        "    if any(char.isdigit() for char in ing):\n",
        "        count += 1\n",
        "        if count <= 10:\n",
        "            print(str(num) + \"\\t\" + cuisine + \"\\t\\t\" + ing)\n",
        "        digit_char.append([num, cuisine, ing])\n",
        "# remove numbers number/number, number%, num.number\n",
        "#  add presense of number as feature?\n",
        "tmp_text = ' '.join([row[2] for row in digit_char])\n",
        "plot_word_cloud(tmp_text, False)"
      ],
      "execution_count": 0,
      "outputs": []
    },
    {
      "cell_type": "code",
      "metadata": {
        "id": "fclTH0LN7oPJ",
        "colab_type": "code",
        "colab": {}
      },
      "source": [
        "for ing, num, cuisine  in zip(text_list, text_list_num, text_list_cuisine):\n",
        "    if \"€\" in ing:\n",
        "        print(str(num) + \"\\t\" + cuisine + \"\\t\\t\" + ing)\n",
        "# remove the pound character, since only one item has character"
      ],
      "execution_count": 0,
      "outputs": []
    },
    {
      "cell_type": "code",
      "metadata": {
        "id": "ZvAcoMqg8Hb1",
        "colab_type": "code",
        "colab": {}
      },
      "source": [
        "count = 0\n",
        "copyright_char = []\n",
        "\n",
        "for ing, num, cuisine  in zip(text_list, text_list_num, text_list_cuisine):\n",
        "    if \"®\" in ing or (\"™\" in ing):\n",
        "        count += 1\n",
        "        if count <= 10:\n",
        "            print(str(num) + \"\\t\" + cuisine + \"\\t\\t\" + ing)\n",
        "        copyright_char.append([num, cuisine, ing])\n",
        "print(len(copyright_char))\n",
        "tmp_text = \"\"\n",
        "for row in copyright_char:\n",
        "    for w in row[2].split():\n",
        "        if (\"®\" in w )or (\"™\" in w):\n",
        "            tmp_text = tmp_text + \" \" + w \n",
        "plot_word_cloud(tmp_text,False)"
      ],
      "execution_count": 0,
      "outputs": []
    },
    {
      "cell_type": "code",
      "metadata": {
        "id": "cJh2lWWq8wAU",
        "colab_type": "code",
        "colab": {}
      },
      "source": [
        "count1 = 0\n",
        "count2 = 0\n",
        "spl_char = []\n",
        "\n",
        "for ing, num, cuisine  in zip(text_list, text_list_num, text_list_cuisine):\n",
        "    if (\"!\" in ing) or (\"&\" in ing) or (\"(\" in ing) or (\")\" in ing) or (\"'\" in ing) or (\"%\" in ing):\n",
        "        if count1 <= 5 and ('!' in ing):\n",
        "            count1 += 1\n",
        "            print(str(num) + \"\\t\" + cuisine + \"\\t\\t\" + ing)\n",
        "        spl_char.append([num, cuisine, ing])\n",
        "\n",
        "        if count2 <= 5 and ('&' in ing):\n",
        "            count2 += 1\n",
        "            print(str(num) + \"\\t\" + cuisine + \"\\t\\t\" + ing)\n",
        "        spl_char.append([num, cuisine, ing])\n",
        "\n",
        "tmp_text = \"\"\n",
        "for row in spl_char:\n",
        "    for w in row[2].split():\n",
        "        if (\"!\" in w) or (\"&\" in w) or (\"(\" in w) or (\")\" in w) or (\"'\" in w) or (\"%\" in w):\n",
        "            tmp_text = tmp_text + \" \" + w \n",
        "plot_word_cloud(tmp_text, False)\n",
        "# replace & with and maybe (half & half)\n",
        "# Remove %, (, )\n",
        "# ' occurs for plural\n",
        "\n",
        "#There are some spelling errors for example\n",
        "#believ as seen below\n",
        "# ! occurs for a brand \"I can't Believe ti's Not Butter\""
      ],
      "execution_count": 0,
      "outputs": []
    },
    {
      "cell_type": "code",
      "metadata": {
        "id": "77WD6gB6e_cN",
        "colab_type": "code",
        "colab": {}
      },
      "source": [
        "accented_char_set= [\"â\", \"ç\", \"è\", \"é\", \"í\", \"î\", \"ú\", \"’\"]\n",
        "accented_char = []\n",
        "count1 = 0\n",
        "count2 = 0\n",
        "\n",
        "for ing, num, cuisine  in zip(text_list, text_list_num, text_list_cuisine):\n",
        "    if 1 in [c in ing for c in accented_char_set]:\n",
        "        if count1 <= 5 and '’' in ing:\n",
        "            count1 += 1\n",
        "            print(str(num) + \"\\t\" + cuisine + \"\\t\\t\" + ing)\n",
        "        elif count2 <= 5:\n",
        "            count2 += 1\n",
        "            print(str(num) + \"\\t\" + cuisine + \"\\t\\t\" + ing)\n",
        "        accented_char.append([num, cuisine, ing])\n",
        "    \n",
        "tmp_text = \"\"\n",
        "for row in accented_char:\n",
        "    for w in row[2].split():\n",
        "        if 1 in [c in w for c in accented_char_set]:\n",
        "            tmp_text = tmp_text + \" \" + w \n",
        "plot_word_cloud(tmp_text, False)\n",
        "# '’' Replace with apostrophe '"
      ],
      "execution_count": 0,
      "outputs": []
    },
    {
      "cell_type": "markdown",
      "metadata": {
        "id": "RHoZfIohurv2",
        "colab_type": "text"
      },
      "source": [
        "# Creating Features / Dataset Variants"
      ]
    },
    {
      "cell_type": "markdown",
      "metadata": {
        "id": "Wlrn032qvnZh",
        "colab_type": "text"
      },
      "source": [
        "https://www.kaggle.com/rejasupotaro/what-are-ingredients\n",
        "\n",
        "* Make Upper case to lower case\n",
        "* Remove elements with 1 ingredient\n",
        "* Add feature for special characters â ç è é í î ú \n",
        "* Remove lb. inch oz.\n",
        "* Add feature for:  ™ ® \n",
        "* Add feature for: !     (! used for a particular brand)\n",
        "* Add feature for: Numbers/percentages\n",
        "* Remove symbol: € ™ ( ) ® . - %\n",
        "* Change ’ with ' (first one is a special character)\n",
        "* Replace \"&\" with and  or space(not sure about this)\n",
        "* Remove all numbers\n",
        "* Remove all ,\n",
        "* Add feature if ™ ® \n",
        "* If there are many ingredients, maybe pick a subset of ingredients as features?\n"
      ]
    },
    {
      "cell_type": "markdown",
      "metadata": {
        "id": "FD9PPG6BuoQs",
        "colab_type": "text"
      },
      "source": [
        "# TODO"
      ]
    },
    {
      "cell_type": "markdown",
      "metadata": {
        "id": "vreuxhhiLeg6",
        "colab_type": "text"
      },
      "source": [
        "* Look at the common words in each cuisine (see most overlapping words too)\n",
        "* LDA\n",
        "* K-means\n",
        "* A number of words occur only one, what to do about these words?\n",
        "* Choice of features (run evaluation)/different subsets - on subset\n",
        "* Model hyper-paramters (run grid-search) - on subset\n",
        "\n",
        "## Sanity checks after preprocessing\n",
        "\n",
        "\n",
        "\n",
        "1.   Remove Empty recepies: Done\n",
        "2.   Remove Recepies with one or two ingredients: Done\n",
        "4.   Join words like: Olive oil -> Olive_oil: TODO\n",
        "5.   Join words like: warm water, cold water, lukewarm water, boiling water, etc."
      ]
    },
    {
      "cell_type": "markdown",
      "metadata": {
        "id": "rSY-CK3ncCqS",
        "colab_type": "text"
      },
      "source": [
        "Let us analyse the dictionary of characters that are present"
      ]
    },
    {
      "cell_type": "markdown",
      "metadata": {
        "id": "eRMcR9fDL1O3",
        "colab_type": "text"
      },
      "source": [
        "* Token/lemmatizing/capitalization, synonym identification, accented characters and number of ingredients"
      ]
    },
    {
      "cell_type": "markdown",
      "metadata": {
        "id": "G2s-DO5M-vHV",
        "colab_type": "text"
      },
      "source": [
        "# Pre-processing\n",
        "\n",
        "---\n",
        "\n"
      ]
    },
    {
      "cell_type": "code",
      "metadata": {
        "id": "UWH2oN3v-x2V",
        "colab_type": "code",
        "colab": {}
      },
      "source": [
        "def create_train_test_data(train_data_df, test_data_df):\n",
        "  train_recepies = [] \n",
        "  train_targets = []\n",
        "  for ig_item in train_data_df['ingredients']:\n",
        "      train_recepies.append(ig_item)\n",
        "  for cuisine_item in train_data_df['cuisine']:\n",
        "      train_targets.append(cuisine_item)\n",
        "\n",
        "  # create test data only, no targets\n",
        "  test_recepies = []\n",
        "  for ig_item in test_data_df['ingredients']:\n",
        "      test_recepies.append(ig_item)\n",
        "  return train_recepies, train_targets, test_recepies"
      ],
      "execution_count": 0,
      "outputs": []
    },
    {
      "cell_type": "code",
      "metadata": {
        "id": "OmaOocmd_6sI",
        "colab_type": "code",
        "outputId": "fb7f170b-8f43-448d-a5ff-0ea1dbe37c97",
        "colab": {
          "base_uri": "https://localhost:8080/",
          "height": 35
        }
      },
      "source": [
        "train_features, train_targets, test_features = create_train_test_data(train_data_df, test_data_df)\n",
        "print(train_targets[0:5])"
      ],
      "execution_count": 9,
      "outputs": [
        {
          "output_type": "stream",
          "text": [
            "['greek', 'southern_us', 'filipino', 'indian', 'indian']\n"
          ],
          "name": "stdout"
        }
      ]
    },
    {
      "cell_type": "markdown",
      "metadata": {
        "id": "poPcpASERePE",
        "colab_type": "text"
      },
      "source": [
        "#### Remove small receipies, special characters, quantity classifiers (inch, oz etc.)\n"
      ]
    },
    {
      "cell_type": "code",
      "metadata": {
        "id": "XwDtfaw4cfZL",
        "colab_type": "code",
        "outputId": "095987e3-920b-4607-c84e-41609449aced",
        "colab": {
          "base_uri": "https://localhost:8080/",
          "height": 109
        }
      },
      "source": [
        "def process_features(features, targets, mode=\"train\"):\n",
        "    processed_recipe = []\n",
        "    processed_cuisine = []\n",
        "    count_len = 0\n",
        "\n",
        "    for idx, recipe in enumerate(features):\n",
        "        processed_ingredient = []\n",
        "        if mode=='train':\n",
        "            cuisine_lower = targets[idx].lower()\n",
        "\n",
        "        # Remove certain words\n",
        "        cur_features = {}\n",
        "        ingredient_all = ' '.join(recipe)\n",
        "\n",
        "        # f1) Add feature for number of ingredients\n",
        "        if len(recipe) <= 2:\n",
        "            count_len += 1\n",
        "            continue\n",
        "        cur_features[\"num_ingredients\"] = len(recipe)\n",
        "\n",
        "        # f2) Change accented characters to ascii characters\n",
        "        accented_char_set= [\"â\", \"ç\", \"è\", \"é\", \"í\", \"î\", \"ú\", \"’\"]\n",
        "        cur_features[\"accented\"] = 0\n",
        "        if 1 in [c in ingredient_all for c in accented_char_set]:\n",
        "            cur_features[\"accented\"] = 1\n",
        "\n",
        "        # f3) Add feature for measurement units\n",
        "        measurement_words = [\"pound\", \"kg\", \"lb\", \"oz\", \"ounc\", \"inch\"]\n",
        "        cur_features[\"measurement\"] = 0\n",
        "        if np.any([w in ingredient_all for w in measurement_words]):\n",
        "            cur_features[\"measurement\"] = 1\n",
        "\n",
        "        # f4) Symbols\n",
        "        cur_features[\"symbol\"] = 0\n",
        "        if (\"™\" in ingredient_all) or (\"®\" in ingredient_all) or (\"!\" in ingredient_all):\n",
        "            cur_features[\"symbol\"] = 1\n",
        "\n",
        "        # f5) Feature for numbers\n",
        "        cur_features[\"number\"] = 0\n",
        "        if any(char.isdigit() for char in ingredient_all):\n",
        "            cur_features[\"number\"] = 1\n",
        "            \n",
        "        # f5) Feature for percentage\n",
        "        cur_features[\"percentage\"] = 0\n",
        "        if \"%\" in ingredient_all:\n",
        "            cur_features[\"percentage\"] = 1\n",
        "\n",
        "        # p1) Convert to lower case\n",
        "        ingredient_all = ingredient_all.lower()\n",
        "        # p2) Change accented characters to ascii characters\n",
        "        ingredient_all = unicodedata.normalize('NFD', ingredient_all).encode('ascii', 'ignore')\n",
        "        ingredient_all = ingredient_all.decode('ascii')\n",
        "        # p3) Remove measurement units\n",
        "        ingredient_all = re.sub((r'\\b(pound|kg|lb|oz|ounc|inch)\\b'), ' ', ingredient_all) \n",
        "        # p4) Remove symbol\n",
        "        ingredient_all = ingredient_all.replace(\"!\", \" \")\n",
        "        ingredient_all = ingredient_all.replace(\"™\", \" \")\n",
        "        ingredient_all = ingredient_all.replace(\"®\", \" \")\n",
        "        # p5) Remove brackets\n",
        "        ingredient_all = ingredient_all.replace(\"(\", \" \")\n",
        "        ingredient_all = ingredient_all.replace(\")\", \" \")\n",
        "        # p6) Remove hyphens\n",
        "        ingredient_all = ingredient_all.replace(\"-\", \" \")\n",
        "        # p7) Remove numbers\n",
        "        ingredient_all = re.sub(\"\\d\", \" \", ingredient_all)\n",
        "        # p8) Remove percentages and / (occur with numbers)\n",
        "        ingredient_all = ingredient_all.replace(\"/\", \" \")\n",
        "        ingredient_all = ingredient_all.replace(\"%\", \" \")\n",
        "\n",
        "        # p9) Remove some more characters\n",
        "        ingredient_all = ingredient_all.replace(\".\", \" \")\n",
        "        ingredient_all = ingredient_all.replace(\"€\", \" \")\n",
        "        ingredient_all = ingredient_all.replace(\",\", \" \")\n",
        "\n",
        "        # p10) Handle apostrophe\n",
        "        ingredient_all = ingredient_all.replace(\"’\", \"'\")\n",
        "        ingredient_all = ingredient_all.replace(\"'\", \"\")\n",
        "\n",
        "        # p11) Replace & with and\n",
        "        ingredient_all = ingredient_all.replace(\"&\", \"and\")\n",
        "\n",
        "        ings = ' '.join(ingredient_all.split())\n",
        "        cur_features[\"num_words\"] = len(ingredient_all.split())\n",
        "\n",
        "        processed_recipe.append((\n",
        "                cur_features[\"num_words\"], cur_features[\"num_ingredients\"],\n",
        "                cur_features[\"accented\"], cur_features[\"measurement\"],\n",
        "                cur_features[\"symbol\"], cur_features[\"number\"],\n",
        "                cur_features[\"percentage\"], ings\n",
        "            ))\n",
        "        if mode=='train':\n",
        "            processed_cuisine.append(cuisine_lower)\n",
        "    \n",
        "    print('Removed {} small recipe from input data'.format(count_len))\n",
        "    if mode=='train':\n",
        "        return processed_recipe, processed_cuisine\n",
        "    else:\n",
        "        return processed_recipe\n",
        "\n",
        "processed_train_features, processed_train_target = process_features(train_features, train_targets, mode='train')\n",
        "processed_test_features = process_features(test_features, train_targets,  mode='test') # just passing the targets, not using it while preprocessing test data\n",
        "\n",
        "\n",
        "print('Sanity check --------------')\n",
        "print(len(processed_train_target))\n",
        "print(len(processed_train_features))"
      ],
      "execution_count": 10,
      "outputs": [
        {
          "output_type": "stream",
          "text": [
            "Removed 215 small recipe from input data\n",
            "Removed 56 small recipe from input data\n",
            "Sanity check --------------\n",
            "39559\n",
            "39559\n"
          ],
          "name": "stdout"
        }
      ]
    },
    {
      "cell_type": "code",
      "metadata": {
        "id": "L0KuUyO43cHv",
        "colab_type": "code",
        "outputId": "82de22cb-f065-47d2-842d-9aadc85c0a52",
        "colab": {
          "base_uri": "https://localhost:8080/",
          "height": 35
        }
      },
      "source": [
        "# The only characters that remain in representation are characters\n",
        "txt = []\n",
        "for i in range(len(processed_train_features)):\n",
        "    txt.append(processed_train_features[i][-1])\n",
        "print(' '.join(sorted(set(' '.join(txt)))))"
      ],
      "execution_count": 11,
      "outputs": [
        {
          "output_type": "stream",
          "text": [
            "  a b c d e f g h i j k l m n o p q r s t u v w x y z\n"
          ],
          "name": "stdout"
        }
      ]
    },
    {
      "cell_type": "code",
      "metadata": {
        "id": "yv9k_ToqE3FD",
        "colab_type": "code",
        "outputId": "d5379e40-c156-441c-86d4-8caecd445766",
        "colab": {
          "base_uri": "https://localhost:8080/",
          "height": 35
        }
      },
      "source": [
        "train_data = pd.DataFrame(processed_train_features)\n",
        "test_data = pd.DataFrame(processed_test_features)\n",
        "\n",
        "train_data.columns = [\"num_words\", \"num_ingredients\", \"accented\", \"measurement\", \"symbol\", \"number\", \"percentage\", \"text\"]\n",
        "print(train_data.shape)"
      ],
      "execution_count": 12,
      "outputs": [
        {
          "output_type": "stream",
          "text": [
            "(39559, 8)\n"
          ],
          "name": "stdout"
        }
      ]
    },
    {
      "cell_type": "code",
      "metadata": {
        "id": "8kXyGEczRRjT",
        "colab_type": "code",
        "outputId": "bbb560cc-a804-450f-aea6-77a7cfa16a27",
        "colab": {
          "base_uri": "https://localhost:8080/",
          "height": 300
        }
      },
      "source": [
        "train_data.describe()"
      ],
      "execution_count": 0,
      "outputs": [
        {
          "output_type": "execute_result",
          "data": {
            "text/html": [
              "<div>\n",
              "<style scoped>\n",
              "    .dataframe tbody tr th:only-of-type {\n",
              "        vertical-align: middle;\n",
              "    }\n",
              "\n",
              "    .dataframe tbody tr th {\n",
              "        vertical-align: top;\n",
              "    }\n",
              "\n",
              "    .dataframe thead th {\n",
              "        text-align: right;\n",
              "    }\n",
              "</style>\n",
              "<table border=\"1\" class=\"dataframe\">\n",
              "  <thead>\n",
              "    <tr style=\"text-align: right;\">\n",
              "      <th></th>\n",
              "      <th>num_words</th>\n",
              "      <th>num_ingredients</th>\n",
              "      <th>accented</th>\n",
              "      <th>measurement</th>\n",
              "      <th>symbol</th>\n",
              "      <th>number</th>\n",
              "      <th>percentage</th>\n",
              "    </tr>\n",
              "  </thead>\n",
              "  <tbody>\n",
              "    <tr>\n",
              "      <th>count</th>\n",
              "      <td>39559.000000</td>\n",
              "      <td>39559.000000</td>\n",
              "      <td>39559.000000</td>\n",
              "      <td>39559.000000</td>\n",
              "      <td>39559.000000</td>\n",
              "      <td>39559.00000</td>\n",
              "      <td>39559.000000</td>\n",
              "    </tr>\n",
              "    <tr>\n",
              "      <th>mean</th>\n",
              "      <td>20.673955</td>\n",
              "      <td>10.815921</td>\n",
              "      <td>0.014586</td>\n",
              "      <td>0.084709</td>\n",
              "      <td>0.004651</td>\n",
              "      <td>0.00905</td>\n",
              "      <td>0.007938</td>\n",
              "    </tr>\n",
              "    <tr>\n",
              "      <th>std</th>\n",
              "      <td>8.919131</td>\n",
              "      <td>4.392268</td>\n",
              "      <td>0.119889</td>\n",
              "      <td>0.278452</td>\n",
              "      <td>0.068042</td>\n",
              "      <td>0.09470</td>\n",
              "      <td>0.088740</td>\n",
              "    </tr>\n",
              "    <tr>\n",
              "      <th>min</th>\n",
              "      <td>3.000000</td>\n",
              "      <td>3.000000</td>\n",
              "      <td>0.000000</td>\n",
              "      <td>0.000000</td>\n",
              "      <td>0.000000</td>\n",
              "      <td>0.00000</td>\n",
              "      <td>0.000000</td>\n",
              "    </tr>\n",
              "    <tr>\n",
              "      <th>25%</th>\n",
              "      <td>14.000000</td>\n",
              "      <td>8.000000</td>\n",
              "      <td>0.000000</td>\n",
              "      <td>0.000000</td>\n",
              "      <td>0.000000</td>\n",
              "      <td>0.00000</td>\n",
              "      <td>0.000000</td>\n",
              "    </tr>\n",
              "    <tr>\n",
              "      <th>50%</th>\n",
              "      <td>20.000000</td>\n",
              "      <td>10.000000</td>\n",
              "      <td>0.000000</td>\n",
              "      <td>0.000000</td>\n",
              "      <td>0.000000</td>\n",
              "      <td>0.00000</td>\n",
              "      <td>0.000000</td>\n",
              "    </tr>\n",
              "    <tr>\n",
              "      <th>75%</th>\n",
              "      <td>26.000000</td>\n",
              "      <td>13.000000</td>\n",
              "      <td>0.000000</td>\n",
              "      <td>0.000000</td>\n",
              "      <td>0.000000</td>\n",
              "      <td>0.00000</td>\n",
              "      <td>0.000000</td>\n",
              "    </tr>\n",
              "    <tr>\n",
              "      <th>max</th>\n",
              "      <td>141.000000</td>\n",
              "      <td>65.000000</td>\n",
              "      <td>1.000000</td>\n",
              "      <td>1.000000</td>\n",
              "      <td>1.000000</td>\n",
              "      <td>1.00000</td>\n",
              "      <td>1.000000</td>\n",
              "    </tr>\n",
              "  </tbody>\n",
              "</table>\n",
              "</div>"
            ],
            "text/plain": [
              "          num_words  num_ingredients  ...       number    percentage\n",
              "count  39559.000000     39559.000000  ...  39559.00000  39559.000000\n",
              "mean      20.673955        10.815921  ...      0.00905      0.007938\n",
              "std        8.919131         4.392268  ...      0.09470      0.088740\n",
              "min        3.000000         3.000000  ...      0.00000      0.000000\n",
              "25%       14.000000         8.000000  ...      0.00000      0.000000\n",
              "50%       20.000000        10.000000  ...      0.00000      0.000000\n",
              "75%       26.000000        13.000000  ...      0.00000      0.000000\n",
              "max      141.000000        65.000000  ...      1.00000      1.000000\n",
              "\n",
              "[8 rows x 7 columns]"
            ]
          },
          "metadata": {
            "tags": []
          },
          "execution_count": 10
        }
      ]
    },
    {
      "cell_type": "markdown",
      "metadata": {
        "id": "OGIZrd1ZR30H",
        "colab_type": "text"
      },
      "source": [
        "## Feature engineering: Binarize textual recepies/features\n",
        "\n",
        "max_df = 0.99 -> remove any word which is occuring in more than 99% of the sample\n"
      ]
    },
    {
      "cell_type": "code",
      "metadata": {
        "id": "nzLK5VWaHqm6",
        "colab_type": "code",
        "colab": {}
      },
      "source": [
        "from sklearn.feature_extraction.text import CountVectorizer, TfidfVectorizer\n",
        "\n",
        "# strip_accents uses ascii\n",
        "def generate_bag_of_words(train_bin_vec, test_bin_vec):\n",
        "    binarizer = CountVectorizer(analyzer = \"word\",  ngram_range = (1, 2), \n",
        "                                binary = False, tokenizer = None, preprocessor = None, \n",
        "                                stop_words = None,  min_df=0.01) \n",
        "    binarizer.fit([str(i[-1]) for i in train_bin_vec])\n",
        "    binary_vector_tr = binarizer.transform([str(i[-1]) for i in train_bin_vec])\n",
        "    binary_vector_te = binarizer.transform([str(i[-1]) for i in test_bin_vec])\n",
        "    return binary_vector_tr, binary_vector_te, binarizer\n",
        "\n",
        "def generate_tf_idf(train_bin_vec, test_bin_vec, bin=False, ngrammax=2,\n",
        "                    use_idf=True, smooth_idf=True, sublinear_tf=False):\n",
        "    vectorizer = TfidfVectorizer(input=\"content\", preprocessor=None, tokenizer=None, \n",
        "                                analyzer=\"word\", ngram_range=(1, ngrammax), min_df=0.01,\n",
        "                                binary=bin, norm=\"l2\", use_idf=use_idf, smooth_idf=smooth_idf,\n",
        "                                sublinear_tf=sublinear_tf)\n",
        "    vectorizer.fit([str(i[-1]) for i in train_bin_vec])\n",
        "    binary_vector_tr = vectorizer.transform([str(i[-1]) for i in train_bin_vec])\n",
        "    binary_vector_te = vectorizer.transform([str(i[-1]) for i in test_bin_vec])\n",
        "    return binary_vector_tr, binary_vector_te, vectorizer\n"
      ],
      "execution_count": 0,
      "outputs": []
    },
    {
      "cell_type": "code",
      "metadata": {
        "id": "5q3rJCExSEtS",
        "colab_type": "code",
        "outputId": "632358c8-d078-49c3-c11b-387575d34a3a",
        "colab": {
          "base_uri": "https://localhost:8080/",
          "height": 35
        }
      },
      "source": [
        "train_rep, test_rep, binarizer = generate_bag_of_words(processed_train_features, processed_test_features)\n",
        "print(train_rep.shape)"
      ],
      "execution_count": 14,
      "outputs": [
        {
          "output_type": "stream",
          "text": [
            "(39559, 513)\n"
          ],
          "name": "stdout"
        }
      ]
    },
    {
      "cell_type": "code",
      "metadata": {
        "id": "6WFzz_80NcJo",
        "colab_type": "code",
        "outputId": "a079e851-b0d0-47ee-b4b1-0b6339ed4bf3",
        "colab": {
          "base_uri": "https://localhost:8080/",
          "height": 201
        }
      },
      "source": [
        "sorted(list(binarizer.vocabulary_.keys()))[0:10]"
      ],
      "execution_count": 15,
      "outputs": [
        {
          "output_type": "execute_result",
          "data": {
            "text/plain": [
              "['all',\n",
              " 'all purpose',\n",
              " 'allspice',\n",
              " 'almonds',\n",
              " 'and',\n",
              " 'apple',\n",
              " 'avocado',\n",
              " 'baby',\n",
              " 'bacon',\n",
              " 'baking']"
            ]
          },
          "metadata": {
            "tags": []
          },
          "execution_count": 15
        }
      ]
    },
    {
      "cell_type": "code",
      "metadata": {
        "id": "hMUUnoaBSLvx",
        "colab_type": "code",
        "colab": {}
      },
      "source": [
        "from sklearn.model_selection import train_test_split\n",
        "from sklearn.preprocessing import LabelEncoder\n",
        "from sklearn.ensemble import RandomForestClassifier\n",
        "from sklearn.metrics import log_loss, accuracy_score, confusion_matrix\n",
        "from sklearn.linear_model import LogisticRegression\n",
        "from sklearn.svm import SVC\n",
        "from sklearn.model_selection import cross_val_score\n",
        "\n",
        "\n",
        "def train(train_binary_vector, processed_train_target, cross_val=True, confusion=True):\n",
        "    lb_en = LabelEncoder()\n",
        "    processed_train_target_encoded = lb_en.fit_transform(processed_train_target)\n",
        "    X_train, X_test, y_train, y_test = train_test_split(train_binary_vector, processed_train_target_encoded , random_state = 0)\n",
        "    classifiers = []\n",
        "    \n",
        "    log_reg = LogisticRegression(solver='lbfgs', multi_class='auto', max_iter=1000)\n",
        "    random_fc = RandomForestClassifier(n_estimators=20, random_state=42)\n",
        "    \n",
        "    # classifiers = {\"Logistic\" :log_reg, \"Random_Forest\": random_fc}\n",
        "    classifiers = {\"Logistic\" :log_reg}\n",
        "\n",
        "\n",
        "    for cl in classifiers:\n",
        "        print(cl)\n",
        "        mod = classifiers[cl]\n",
        "    \n",
        "        X , X_test, y, y_test = train_test_split(X_train, y_train, test_size=0.20)\n",
        "    \n",
        "        mod.fit(X, y)\n",
        "        print('RFC LogLoss {score}'.format(score=log_loss(y, mod.predict_proba(X))))\n",
        "        print('RFC Accuracy {score}'.format(score=accuracy_score(y, mod.predict(X))))\n",
        "        print('RFC Accuracy {score}'.format(score=accuracy_score(y_test, mod.predict(X_test))))\n",
        "    \n",
        "        if confusion:\n",
        "            y_pred = mod.predict(X_test)\n",
        "            conf_mat = confusion_matrix(y_test, y_pred)\n",
        "            plt.clf()\n",
        "            sns.heatmap(conf_mat, annot=False)\n",
        "            plt.show()\n",
        "    \n",
        "        if cross_val:\n",
        "            scores = cross_val_score(mod, X_train, y_train, cv=5)\n",
        "            print(scores)\n",
        "            print(np.mean(scores))\n",
        "        print(\"-----\")\n",
        "    "
      ],
      "execution_count": 0,
      "outputs": []
    },
    {
      "cell_type": "code",
      "metadata": {
        "id": "CodWLa8OXF60",
        "colab_type": "code",
        "outputId": "a007ef0e-a230-4f90-970f-eae0d16ac3ad",
        "colab": {
          "base_uri": "https://localhost:8080/",
          "height": 398
        }
      },
      "source": [
        "train(train_rep1, processed_train_target)"
      ],
      "execution_count": 0,
      "outputs": [
        {
          "output_type": "stream",
          "text": [
            "Logistic\n",
            "RFC LogLoss 0.6891058691630926\n",
            "RFC Accuracy 0.7878660206446176\n",
            "RFC Accuracy 0.720593191776205\n"
          ],
          "name": "stdout"
        },
        {
          "output_type": "display_data",
          "data": {
            "image/png": "[encoded data removed]",
            "text/plain": [
              "<Figure size 432x288 with 2 Axes>"
            ]
          },
          "metadata": {
            "tags": []
          }
        },
        {
          "output_type": "stream",
          "text": [
            "[0.71746085 0.71830274 0.7333221  0.72445194 0.72185654]\n",
            "0.7230788356734159\n",
            "-----\n"
          ],
          "name": "stdout"
        }
      ]
    },
    {
      "cell_type": "markdown",
      "metadata": {
        "id": "vvDHKIRPzr3f",
        "colab_type": "text"
      },
      "source": [
        "# Experimenting with Variants of Feature Generation\n",
        "\n",
        "* TF-IDF\n",
        "* Lemmatization (inspired by : https://www.kaggle.com/longyg/svc-classification)\n",
        "* Word2Vec\n"
      ]
    },
    {
      "cell_type": "code",
      "metadata": {
        "id": "sVj3t4gL0aKJ",
        "colab_type": "code",
        "outputId": "fa0a9fc8-cf53-4c78-ef2a-f34a1a512854",
        "colab": {
          "base_uri": "https://localhost:8080/",
          "height": 770
        }
      },
      "source": [
        "train_rep, test_rep, binarizer = generate_tf_idf(processed_train_features, processed_test_features,\n",
        "                                                 bin=False, ngrammax=2, use_idf=True, smooth_idf=True,\n",
        "                                                 sublinear_tf=False)\n",
        "train(train_rep, processed_train_target, False, False)\n",
        "\n",
        "# Varying n-grams\n",
        "print(\"1-gram\")\n",
        "train_rep, test_rep, binarizer = generate_tf_idf(processed_train_features, processed_test_features,\n",
        "                                                 bin=False, ngrammax=1,\n",
        "                                                 use_idf=True, smooth_idf=True, sublinear_tf=False)\n",
        "train(train_rep, processed_train_target, False, False)\n",
        "\n",
        "print(\"3-gram\")\n",
        "train_rep, test_rep, binarizer = generate_tf_idf(processed_train_features, processed_test_features,\n",
        "                                                 bin=False, ngrammax=3,\n",
        "                                                 use_idf=True, smooth_idf=True, sublinear_tf=False)\n",
        "train(train_rep, processed_train_target, False, False)\n",
        "\n",
        "# Varying n-grams\n",
        "print(\"binary\")\n",
        "train_rep, test_rep, binarizer = generate_tf_idf(processed_train_features, processed_test_features,\n",
        "                                                 bin=True, ngrammax=2,\n",
        "                                                 use_idf=True, smooth_idf=True, sublinear_tf=False)\n",
        "train(train_rep, processed_train_target, False, False)\n",
        "\n",
        "print(\"Non-smooth IDF\")\n",
        "train_rep, test_rep, binarizer = generate_tf_idf(processed_train_features, processed_test_features,\n",
        "                                                 bin=False, ngrammax=2,\n",
        "                                                 use_idf=True, smooth_idf=False, sublinear_tf=False)\n",
        "train(train_rep, processed_train_target, False, False)\n",
        "\n",
        "print(\"Sublinear_TF\")\n",
        "train_rep, test_rep, binarizer = generate_tf_idf(processed_train_features, processed_test_features,\n",
        "                                                 bin=False, ngrammax=2,\n",
        "                                                 use_idf=True, smooth_idf=True, sublinear_tf=True)\n",
        "train(train_rep, processed_train_target, False, False)\n",
        "\n",
        "print(\"No-DF\")\n",
        "train_rep, test_rep, binarizer = generate_tf_idf(processed_train_features, processed_test_features,\n",
        "                                                 bin=False, ngrammax=2,\n",
        "                                                 use_idf=False, smooth_idf=True, sublinear_tf=False)\n",
        "train(train_rep, processed_train_target, False, False)"
      ],
      "execution_count": 0,
      "outputs": [
        {
          "output_type": "stream",
          "text": [
            "Logistic\n",
            "RFC LogLoss 0.8616560085433441\n",
            "RFC Accuracy 0.7534442805982726\n",
            "RFC Accuracy 0.7219413549039434\n",
            "-----\n",
            "1-gram\n",
            "Logistic\n",
            "RFC LogLoss 0.8848051777134502\n",
            "RFC Accuracy 0.739709290077944\n",
            "RFC Accuracy 0.7253117627232896\n",
            "-----\n",
            "3-gram\n",
            "Logistic\n",
            "RFC LogLoss 0.8632833899999495\n",
            "RFC Accuracy 0.7507057088687592\n",
            "RFC Accuracy 0.7180653859116953\n",
            "-----\n",
            "binary\n",
            "Logistic\n",
            "RFC LogLoss 0.8591607509394944\n",
            "RFC Accuracy 0.7520539287971351\n",
            "RFC Accuracy 0.7263228850690934\n",
            "-----\n",
            "Non-smooth IDF\n",
            "Logistic\n",
            "RFC LogLoss 0.8554747670276479\n",
            "RFC Accuracy 0.7539498630714135\n",
            "RFC Accuracy 0.7126727334007414\n",
            "-----\n",
            "Sublinear_TF\n",
            "Logistic\n",
            "RFC LogLoss 0.858280091617357\n",
            "RFC Accuracy 0.7520960606698968\n",
            "RFC Accuracy 0.7229524772497472\n",
            "-----\n",
            "No-DF\n",
            "Logistic\n",
            "RFC LogLoss 0.9032963709511864\n",
            "RFC Accuracy 0.7411417737518433\n",
            "RFC Accuracy 0.7221098752949107\n",
            "-----\n"
          ],
          "name": "stdout"
        }
      ]
    },
    {
      "cell_type": "code",
      "metadata": {
        "id": "rf4KaEefCbx9",
        "colab_type": "code",
        "outputId": "64a7dea4-7d15-4c44-9704-edf2d9be3036",
        "colab": {
          "base_uri": "https://localhost:8080/",
          "height": 164
        }
      },
      "source": [
        "print(\"Heursitic best\")\n",
        "from scipy import sparse \n",
        "train_rep, test_rep, binarizer = generate_tf_idf(processed_train_features, processed_test_features,\n",
        "                                                 bin=False, ngrammax=2,\n",
        "                                                 use_idf=True, smooth_idf=False, sublinear_tf=True)\n",
        "train_rep = \n",
        "train(train_rep, processed_train_target, False, True)"
      ],
      "execution_count": 0,
      "outputs": [
        {
          "output_type": "stream",
          "text": [
            "Heursitic best\n",
            "Logistic\n",
            "RFC LogLoss 0.8576925926689545\n",
            "RFC Accuracy 0.7532757531072256\n",
            "RFC Accuracy 0.7210987529491069\n",
            "[0.71931302 0.71998653 0.73113208 0.72310287 0.71881857]\n",
            "0.7224706106059282\n",
            "-----\n"
          ],
          "name": "stdout"
        }
      ]
    },
    {
      "cell_type": "code",
      "metadata": {
        "id": "G2FgkSzMJkrg",
        "colab_type": "code",
        "outputId": "af3188fb-2926-4ebf-c85a-adbd614e594c",
        "colab": {
          "base_uri": "https://localhost:8080/",
          "height": 109
        }
      },
      "source": [
        "nltk.download('punkt')\n",
        "nltk.download('wordnet')"
      ],
      "execution_count": 0,
      "outputs": [
        {
          "output_type": "stream",
          "text": [
            "[nltk_data] Downloading package punkt to /root/nltk_data...\n",
            "[nltk_data]   Package punkt is already up-to-date!\n",
            "[nltk_data] Downloading package wordnet to /root/nltk_data...\n",
            "[nltk_data]   Package wordnet is already up-to-date!\n"
          ],
          "name": "stdout"
        },
        {
          "output_type": "execute_result",
          "data": {
            "text/plain": [
              "True"
            ]
          },
          "metadata": {
            "tags": []
          },
          "execution_count": 149
        }
      ]
    },
    {
      "cell_type": "code",
      "metadata": {
        "id": "Of2l_F-cJqxF",
        "colab_type": "code",
        "colab": {}
      },
      "source": [
        "def stem_vec(train_bin_vec, stemtype=0):\n",
        "    if stemtype == 0:\n",
        "        stemmer = PorterStemmer()\n",
        "    else:\n",
        "        stemmer = LancasterStemmer()\n",
        "\n",
        "    stem_dat = []\n",
        "    for dat in train_bin_vec:\n",
        "        stem_txt = []\n",
        "        for w in dat[-1].split():\n",
        "            stem_txt.append(stemmer.stem(w))\n",
        "        stem_dat.append([' '.join(stem_txt)])\n",
        "    return stem_dat\n",
        "\n",
        "def lemmatize_vec(train_bin_vec):\n",
        "    lemmatizer = WordNetLemmatizer()\n",
        "    lem_dat = []\n",
        "    for dat in train_bin_vec:\n",
        "        stem_txt = []\n",
        "        for w in dat[-1].split():\n",
        "            stem_txt.append(lemmatizer.lemmatize(w))\n",
        "        lem_dat.append([' '.join(stem_txt)])\n",
        "    return lem_dat"
      ],
      "execution_count": 0,
      "outputs": []
    },
    {
      "cell_type": "markdown",
      "metadata": {
        "id": "NOQkqVlccx36",
        "colab_type": "text"
      },
      "source": [
        "Tokenization and Lemmetizing doesn't really affect performance"
      ]
    },
    {
      "cell_type": "code",
      "metadata": {
        "id": "ZrG1d0SvPUGV",
        "colab_type": "code",
        "outputId": "35813f0a-4981-4572-d0e8-d2ae46c1623d",
        "colab": {
          "base_uri": "https://localhost:8080/",
          "height": 458
        }
      },
      "source": [
        "print(\"Stemming Porter\")\n",
        "stemmed_dat = stem_vec(processed_train_features, 0)\n",
        "train_rep, test_rep, binarizer = generate_tf_idf(stemmed_dat, processed_test_features,\n",
        "                                                 bin=False, ngrammax=2,\n",
        "                                                 use_idf=True, smooth_idf=False, sublinear_tf=True)\n",
        "train(train_rep, processed_train_target, True, False)\n",
        "\n",
        "print(\"Stemming Lancaster\")\n",
        "stemmed_dat = stem_vec(processed_train_features, 1)\n",
        "train_rep, test_rep, binarizer = generate_tf_idf(stemmed_dat, processed_test_features,\n",
        "                                                 bin=False, ngrammax=2,\n",
        "                                                 use_idf=True, smooth_idf=False, sublinear_tf=True)\n",
        "train(train_rep, processed_train_target, True, False)\n",
        "\n",
        "print(\"Lemmatize\")\n",
        "lemmed_dat = lemmatize_vec(processed_train_features)\n",
        "train_rep, test_rep, binarizer = generate_tf_idf(stemmed_dat, processed_test_features,\n",
        "                                                 bin=False, ngrammax=2,\n",
        "                                                 use_idf=True, smooth_idf=False, sublinear_tf=True)\n",
        "train(train_rep, processed_train_target, True, False)"
      ],
      "execution_count": 0,
      "outputs": [
        {
          "output_type": "stream",
          "text": [
            "Stemming Porter\n",
            "Logistic\n",
            "RFC LogLoss 0.8482931617382061\n",
            "RFC Accuracy 0.7546239730356015\n",
            "RFC Accuracy 0.723963599595551\n",
            "[0.71796599 0.72419599 0.73365903 0.72023609 0.72253165]\n",
            "0.7237177486080528\n",
            "-----\n",
            "Stemming Lancaster\n",
            "Logistic\n",
            "RFC LogLoss 0.8445472719989728\n",
            "RFC Accuracy 0.7579523909837792\n",
            "RFC Accuracy 0.7165487023929895\n",
            "[0.71796599 0.72604816 0.73433288 0.72192243 0.72067511]\n",
            "0.7241889123416083\n",
            "-----\n",
            "Lemmatize\n",
            "Logistic\n",
            "RFC LogLoss 0.8427042074075547\n",
            "RFC Accuracy 0.7562671160733094\n",
            "RFC Accuracy 0.7108190091001011\n",
            "[0.71796599 0.72604816 0.73433288 0.72192243 0.72067511]\n",
            "0.7241889123416083\n",
            "-----\n"
          ],
          "name": "stdout"
        }
      ]
    },
    {
      "cell_type": "code",
      "metadata": {
        "id": "y4gDNN7KZI4q",
        "colab_type": "code",
        "colab": {}
      },
      "source": [
        "print(\"Heursitic best\")\n",
        "train_rep, test_rep, binarizer = generate_tf_idf(processed_train_features, processed_test_features,\n",
        "                                                 bin=False, ngrammax=2,\n",
        "                                                 use_idf=True, smooth_idf=False, sublinear_tf=True)\n",
        "train(train_rep, processed_train_target, True, False)"
      ],
      "execution_count": 0,
      "outputs": []
    },
    {
      "cell_type": "code",
      "metadata": {
        "id": "rvUKbVchdll8",
        "colab_type": "code",
        "outputId": "57c87129-0262-460f-c9a4-771af5ba812d",
        "colab": {
          "base_uri": "https://localhost:8080/",
          "height": 638
        }
      },
      "source": [
        "def merge_representation(train_features, vectorized_text):\n",
        "    merged_dat = []\n",
        "    for i in range(len(train_features)):\n",
        "        merged_dat.append(np.concatenate((np.array(train_features[i][:-1]), vectorized_text[i])))\n",
        "    return np.array(merged_dat)\n",
        "\n",
        "train_rep, test_rep, binarizer = generate_tf_idf(processed_train_features, processed_test_features,\n",
        "                                                 bin=False, ngrammax=2,\n",
        "                                                 use_idf=True, smooth_idf=False, sublinear_tf=True)\n",
        "\n",
        "train_rep = merge_representation(processed_train_features, train_rep.toarray())\n",
        "train(train_rep, processed_train_target, True, True)"
      ],
      "execution_count": 48,
      "outputs": [
        {
          "output_type": "stream",
          "text": [
            "Logistic\n"
          ],
          "name": "stdout"
        },
        {
          "output_type": "stream",
          "text": [
            "/usr/local/lib/python3.6/dist-packages/sklearn/linear_model/logistic.py:947: ConvergenceWarning: lbfgs failed to converge. Increase the number of iterations.\n",
            "  \"of iterations.\", ConvergenceWarning)\n"
          ],
          "name": "stderr"
        },
        {
          "output_type": "stream",
          "text": [
            "RFC LogLoss 0.8639955848268829\n",
            "RFC Accuracy 0.7479671371392458\n",
            "RFC Accuracy 0.7317155375800471\n"
          ],
          "name": "stdout"
        },
        {
          "output_type": "display_data",
          "data": {
            "image/png": "[encoded data removed]",
            "text/plain": [
              "<Figure size 432x288 with 2 Axes>"
            ]
          },
          "metadata": {
            "tags": []
          }
        },
        {
          "output_type": "stream",
          "text": [
            "/usr/local/lib/python3.6/dist-packages/sklearn/linear_model/logistic.py:947: ConvergenceWarning: lbfgs failed to converge. Increase the number of iterations.\n",
            "  \"of iterations.\", ConvergenceWarning)\n",
            "/usr/local/lib/python3.6/dist-packages/sklearn/linear_model/logistic.py:947: ConvergenceWarning: lbfgs failed to converge. Increase the number of iterations.\n",
            "  \"of iterations.\", ConvergenceWarning)\n",
            "/usr/local/lib/python3.6/dist-packages/sklearn/linear_model/logistic.py:947: ConvergenceWarning: lbfgs failed to converge. Increase the number of iterations.\n",
            "  \"of iterations.\", ConvergenceWarning)\n",
            "/usr/local/lib/python3.6/dist-packages/sklearn/linear_model/logistic.py:947: ConvergenceWarning: lbfgs failed to converge. Increase the number of iterations.\n",
            "  \"of iterations.\", ConvergenceWarning)\n"
          ],
          "name": "stderr"
        },
        {
          "output_type": "stream",
          "text": [
            "[0.71998653 0.71796599 0.73180593 0.72462057 0.71983122]\n",
            "0.722842048832489\n",
            "-----\n"
          ],
          "name": "stdout"
        },
        {
          "output_type": "stream",
          "text": [
            "/usr/local/lib/python3.6/dist-packages/sklearn/linear_model/logistic.py:947: ConvergenceWarning: lbfgs failed to converge. Increase the number of iterations.\n",
            "  \"of iterations.\", ConvergenceWarning)\n"
          ],
          "name": "stderr"
        }
      ]
    },
    {
      "cell_type": "code",
      "metadata": {
        "id": "T97iqEN6YAo3",
        "colab_type": "code",
        "colab": {}
      },
      "source": [
        "from gensim.models import word2vec\n",
        "from gensim.models import KeyedVectors"
      ],
      "execution_count": 0,
      "outputs": []
    },
    {
      "cell_type": "markdown",
      "metadata": {
        "id": "JWW4rc5tcPHZ",
        "colab_type": "text"
      },
      "source": [
        "* Compare different models (search hyper-params)\n",
        "* Dimensionality reduction and different clustering methods"
      ]
    },
    {
      "cell_type": "markdown",
      "metadata": {
        "id": "zreoRf3Zoalj",
        "colab_type": "text"
      },
      "source": [
        "### Download word2vec and generate representation based on that\n"
      ]
    },
    {
      "cell_type": "code",
      "metadata": {
        "id": "F4whzYrYpkAF",
        "colab_type": "code",
        "outputId": "0fe54c49-8b46-490d-cdf1-c370cd76a310",
        "colab": {
          "base_uri": "https://localhost:8080/",
          "height": 219
        }
      },
      "source": [
        "!wget -P /root/input/ -c \"https://s3.amazonaws.com/dl4j-distribution/GoogleNews-vectors-negative300.bin.gz\""
      ],
      "execution_count": 18,
      "outputs": [
        {
          "output_type": "stream",
          "text": [
            "--2019-12-01 23:20:20--  https://s3.amazonaws.com/dl4j-distribution/GoogleNews-vectors-negative300.bin.gz\n",
            "Resolving s3.amazonaws.com (s3.amazonaws.com)... 52.217.45.14\n",
            "Connecting to s3.amazonaws.com (s3.amazonaws.com)|52.217.45.14|:443... connected.\n",
            "HTTP request sent, awaiting response... 200 OK\n",
            "Length: 1647046227 (1.5G) [application/x-gzip]\n",
            "Saving to: ‘/root/input/GoogleNews-vectors-negative300.bin.gz’\n",
            "\n",
            "GoogleNews-vectors- 100%[===================>]   1.53G  16.6MB/s    in 98s     \n",
            "\n",
            "2019-12-01 23:21:59 (16.0 MB/s) - ‘/root/input/GoogleNews-vectors-negative300.bin.gz’ saved [1647046227/1647046227]\n",
            "\n"
          ],
          "name": "stdout"
        }
      ]
    },
    {
      "cell_type": "code",
      "metadata": {
        "id": "4zNaNsaqrLsD",
        "colab_type": "code",
        "outputId": "f0a897d2-2ab9-4842-a6e2-42180fecd88b",
        "colab": {
          "base_uri": "https://localhost:8080/",
          "height": 74
        }
      },
      "source": [
        "EMBEDDING_FILE = '/root/input/GoogleNews-vectors-negative300.bin.gz' # from above\n",
        "word2vec = KeyedVectors.load_word2vec_format(EMBEDDING_FILE, binary=True)"
      ],
      "execution_count": 19,
      "outputs": [
        {
          "output_type": "stream",
          "text": [
            "/usr/local/lib/python3.6/dist-packages/smart_open/smart_open_lib.py:402: UserWarning: This function is deprecated, use smart_open.open instead. See the migration notes for details: https://github.com/RaRe-Technologies/smart_open/blob/master/README.rst#migrating-to-the-new-open-function\n",
            "  'See the migration notes for details: %s' % _MIGRATION_NOTES_URL\n"
          ],
          "name": "stderr"
        }
      ]
    },
    {
      "cell_type": "code",
      "metadata": {
        "id": "F2ukuEEnroQK",
        "colab_type": "code",
        "outputId": "c8820a39-e57e-46f4-9e82-421e34e9df84",
        "colab": {
          "base_uri": "https://localhost:8080/",
          "height": 90
        }
      },
      "source": [
        "def cos(x1, x2):\n",
        "  return np.dot(x1, x2)/(np.linalg.norm(x1)*np.linalg.norm(x2))\n",
        "print(cos(word2vec[\"salt\"], word2vec[\"pepper\"]))\n",
        "print(cos(word2vec[\"meat\"], word2vec[\"steak\"]))\n",
        "print(cos(word2vec[\"lettuce\"], word2vec[\"steak\"]))\n",
        "print(cos(word2vec[\"lettuce\"], word2vec[\"cabbage\"]))"
      ],
      "execution_count": 20,
      "outputs": [
        {
          "output_type": "stream",
          "text": [
            "0.4258557\n",
            "0.5724613\n",
            "0.37770718\n",
            "0.6451551\n"
          ],
          "name": "stdout"
        }
      ]
    },
    {
      "cell_type": "code",
      "metadata": {
        "id": "AczdtrP-sO9K",
        "colab_type": "code",
        "colab": {}
      },
      "source": [
        "def generate_word2vec(train_bin_vec):\n",
        "    word2vec_rep = []\n",
        "    for dat in train_bin_vec:\n",
        "        vec = np.zeros(300)\n",
        "        for w in dat[-1]:\n",
        "            if w in word2vec:\n",
        "                vec += word2vec[w]\n",
        "        word2vec_rep.append(vec)\n",
        "    return np.array(word2vec_rep)"
      ],
      "execution_count": 0,
      "outputs": []
    },
    {
      "cell_type": "code",
      "metadata": {
        "id": "tmWHN7q0tugK",
        "colab_type": "code",
        "colab": {}
      },
      "source": [
        "word_rep = generate_word2vec(processed_train_features)"
      ],
      "execution_count": 0,
      "outputs": []
    },
    {
      "cell_type": "code",
      "metadata": {
        "id": "Vb1NPqM6tu2I",
        "colab_type": "code",
        "outputId": "9b0bef9f-09c5-4219-b400-95ccfa146212",
        "colab": {
          "base_uri": "https://localhost:8080/",
          "height": 35
        }
      },
      "source": [
        "print(word_rep.shape)"
      ],
      "execution_count": 23,
      "outputs": [
        {
          "output_type": "stream",
          "text": [
            "(39559, 300)\n"
          ],
          "name": "stdout"
        }
      ]
    },
    {
      "cell_type": "code",
      "metadata": {
        "id": "gpGDgMbuuWtL",
        "colab_type": "code",
        "colab": {}
      },
      "source": [
        "# I have a downloaded copy of this file\n",
        "np.savetxt(\"word2vec.txt\", word_rep)"
      ],
      "execution_count": 0,
      "outputs": []
    },
    {
      "cell_type": "code",
      "metadata": {
        "id": "SECbvus_u7NO",
        "colab_type": "code",
        "colab": {
          "base_uri": "https://localhost:8080/",
          "height": 418
        },
        "outputId": "60e7d0ed-4d7d-496e-d278-975de942eb8a"
      },
      "source": [
        "train(word_rep, processed_train_target, False, True)"
      ],
      "execution_count": 47,
      "outputs": [
        {
          "output_type": "stream",
          "text": [
            "Logistic\n"
          ],
          "name": "stdout"
        },
        {
          "output_type": "stream",
          "text": [
            "/usr/local/lib/python3.6/dist-packages/sklearn/linear_model/logistic.py:947: ConvergenceWarning: lbfgs failed to converge. Increase the number of iterations.\n",
            "  \"of iterations.\", ConvergenceWarning)\n"
          ],
          "name": "stderr"
        },
        {
          "output_type": "stream",
          "text": [
            "RFC LogLoss 1.8055014288302476\n",
            "RFC Accuracy 0.4565409732462608\n",
            "RFC Accuracy 0.448938321536906\n"
          ],
          "name": "stdout"
        },
        {
          "output_type": "display_data",
          "data": {
            "image/png": "[encoded data removed]",
            "text/plain": [
              "<Figure size 432x288 with 2 Axes>"
            ]
          },
          "metadata": {
            "tags": []
          }
        },
        {
          "output_type": "stream",
          "text": [
            "-----\n"
          ],
          "name": "stdout"
        }
      ]
    },
    {
      "cell_type": "code",
      "metadata": {
        "id": "XUBHL7XH6VxU",
        "colab_type": "code",
        "colab": {
          "base_uri": "https://localhost:8080/",
          "height": 638
        },
        "outputId": "823784d5-3118-4959-f152-c1a3b9f842d1"
      },
      "source": [
        "def merge_word2vec(train_rep_old, word2vec_rep):\n",
        "    merged_dat = []\n",
        "    for i in range(len(train_rep_old)):\n",
        "        merged_dat.append(np.concatenate((np.array(train_rep_old[i]), word2vec_rep[i])))\n",
        "    return np.array(merged_dat)\n",
        "\n",
        "train_rep, test_rep, binarizer = generate_tf_idf(processed_train_features, processed_test_features,\n",
        "                                                 bin=False, ngrammax=2,\n",
        "                                                 use_idf=True, smooth_idf=False, sublinear_tf=True)\n",
        "\n",
        "train_rep = merge_representation(processed_train_features, train_rep.toarray())\n",
        "train_rep2 = merge_word2vec(train_rep, word_rep)\n",
        "\n",
        "train(train_rep2, processed_train_target, True, True)"
      ],
      "execution_count": 53,
      "outputs": [
        {
          "output_type": "stream",
          "text": [
            "Logistic\n"
          ],
          "name": "stdout"
        },
        {
          "output_type": "stream",
          "text": [
            "/usr/local/lib/python3.6/dist-packages/sklearn/linear_model/logistic.py:947: ConvergenceWarning: lbfgs failed to converge. Increase the number of iterations.\n",
            "  \"of iterations.\", ConvergenceWarning)\n"
          ],
          "name": "stderr"
        },
        {
          "output_type": "stream",
          "text": [
            "RFC LogLoss 1.4645176551057728\n",
            "RFC Accuracy 0.5730777333052455\n",
            "RFC Accuracy 0.5569598921469497\n"
          ],
          "name": "stdout"
        },
        {
          "output_type": "display_data",
          "data": {
            "image/png": "[encoded data removed]",
            "text/plain": [
              "<Figure size 432x288 with 2 Axes>"
            ]
          },
          "metadata": {
            "tags": []
          }
        },
        {
          "output_type": "stream",
          "text": [
            "/usr/local/lib/python3.6/dist-packages/sklearn/linear_model/logistic.py:947: ConvergenceWarning: lbfgs failed to converge. Increase the number of iterations.\n",
            "  \"of iterations.\", ConvergenceWarning)\n",
            "/usr/local/lib/python3.6/dist-packages/sklearn/linear_model/logistic.py:947: ConvergenceWarning: lbfgs failed to converge. Increase the number of iterations.\n",
            "  \"of iterations.\", ConvergenceWarning)\n",
            "/usr/local/lib/python3.6/dist-packages/sklearn/linear_model/logistic.py:947: ConvergenceWarning: lbfgs failed to converge. Increase the number of iterations.\n",
            "  \"of iterations.\", ConvergenceWarning)\n",
            "/usr/local/lib/python3.6/dist-packages/sklearn/linear_model/logistic.py:947: ConvergenceWarning: lbfgs failed to converge. Increase the number of iterations.\n",
            "  \"of iterations.\", ConvergenceWarning)\n"
          ],
          "name": "stderr"
        },
        {
          "output_type": "stream",
          "text": [
            "[0.58595723 0.58679912 0.543969   0.59443508 0.56624473]\n",
            "0.5754810321216162\n",
            "-----\n"
          ],
          "name": "stdout"
        },
        {
          "output_type": "stream",
          "text": [
            "/usr/local/lib/python3.6/dist-packages/sklearn/linear_model/logistic.py:947: ConvergenceWarning: lbfgs failed to converge. Increase the number of iterations.\n",
            "  \"of iterations.\", ConvergenceWarning)\n"
          ],
          "name": "stderr"
        }
      ]
    },
    {
      "cell_type": "code",
      "metadata": {
        "id": "TiwHQXij_PlI",
        "colab_type": "code",
        "colab": {}
      },
      "source": [
        ""
      ],
      "execution_count": 0,
      "outputs": []
    },
    {
      "cell_type": "markdown",
      "metadata": {
        "id": "DATMk8l6GQJk",
        "colab_type": "text"
      },
      "source": [
        "## Analyzing incorrect samples"
      ]
    },
    {
      "cell_type": "code",
      "metadata": {
        "id": "iW16oKLqGPEn",
        "colab_type": "code",
        "colab": {}
      },
      "source": [
        "def merge_representation(train_features, vectorized_text):\n",
        "    merged_dat = []\n",
        "    for i in range(len(train_features)):\n",
        "        merged_dat.append(np.concatenate((np.array(train_features[i][:-1]), vectorized_text[i])))\n",
        "    return np.array(merged_dat)\n",
        "\n",
        "train_rep, test_rep, binarizer = generate_tf_idf(processed_train_features, processed_test_features,\n",
        "                                                 bin=False, ngrammax=2,\n",
        "                                                 use_idf=True, smooth_idf=False, sublinear_tf=True)\n",
        "\n",
        "train_rep = merge_representation(processed_train_features, train_rep.toarray())"
      ],
      "execution_count": 0,
      "outputs": []
    },
    {
      "cell_type": "code",
      "metadata": {
        "id": "_l1dyaSdGvR6",
        "colab_type": "code",
        "colab": {
          "base_uri": "https://localhost:8080/",
          "height": 129
        },
        "outputId": "cacabb18-728c-4b70-9eda-35c560b99923"
      },
      "source": [
        "lb_en = LabelEncoder()\n",
        "processed_train_target_encoded = lb_en.fit_transform(processed_train_target)\n",
        "X_train, X_test, y_train, y_test = train_test_split(train_rep, processed_train_target_encoded , random_state = 0)\n",
        "mod = LogisticRegression(C=0.0001, solver='lbfgs', multi_class='auto', max_iter=1000)\n",
        "\n",
        "X , X_test, y, y_test = train_test_split(X_train, y_train, test_size=0.20)\n",
        "\n",
        "mod.fit(X, y)\n",
        "print('RFC LogLoss {score}'.format(score=log_loss(y, mod.predict_proba(X))))\n",
        "print('RFC Accuracy {score}'.format(score=accuracy_score(y, mod.predict(X))))\n",
        "print('RFC Accuracy {score}'.format(score=accuracy_score(y_test, mod.predict(X_test))))"
      ],
      "execution_count": 60,
      "outputs": [
        {
          "output_type": "stream",
          "text": [
            "/usr/local/lib/python3.6/dist-packages/sklearn/linear_model/logistic.py:947: ConvergenceWarning: lbfgs failed to converge. Increase the number of iterations.\n",
            "  \"of iterations.\", ConvergenceWarning)\n"
          ],
          "name": "stderr"
        },
        {
          "output_type": "stream",
          "text": [
            "RFC LogLoss 0.863153799390815\n",
            "RFC Accuracy 0.7495260164314304\n",
            "RFC Accuracy 0.731041456016178\n"
          ],
          "name": "stdout"
        }
      ]
    },
    {
      "cell_type": "code",
      "metadata": {
        "id": "g60IJHhuHv3K",
        "colab_type": "code",
        "colab": {}
      },
      "source": [
        "y_pred = mod.predict(X_test)\n",
        "\n",
        "y_pred = mod.predict(X_test)\n",
        "conf_mat = confusion_matrix(y_test, y_pred)\n",
        "\n",
        "examples = []\n",
        "count = 0\n",
        "all_len_ing\n",
        "for y_val, y_true in zip(y_pred, y_test):\n",
        "    if y_val != y_true:\n",
        "        examples.append(count)\n",
        "    count+= 1"
      ],
      "execution_count": 0,
      "outputs": []
    },
    {
      "cell_type": "code",
      "metadata": {
        "id": "uofkymJOHu_l",
        "colab_type": "code",
        "colab": {
          "base_uri": "https://localhost:8080/",
          "height": 588
        },
        "outputId": "8f62e79b-dbaa-4c1e-d5ea-7c05cd157d86"
      },
      "source": [
        "len_ing = []\n",
        "for ind in examples:\n",
        "    txt =  processed_train_features[ind][-1]\n",
        "    len_ing.append(len(txt.split()))\n",
        "for ind in examples[0:10]:\n",
        "    print(processed_train_features[ind][-1])\n",
        "    print(lb_en.classes_[y_pred[ind]], lb_en.classes_[y_test[ind]])\n",
        "    print(\"----\")"
      ],
      "execution_count": 94,
      "outputs": [
        {
          "output_type": "stream",
          "text": [
            "black pepper shallots cornflour cayenne pepper onions garlic paste milk butter salt lemon juice water chili powder passata oil ground cumin boneless chicken skinless thigh garam masala double cream natural yogurt bay leaf\n",
            "mexican southern_us\n",
            "----\n",
            "plain flour sugar butter eggs fresh ginger root salt ground cinnamon milk vanilla extract ground ginger powdered sugar baking powder\n",
            "mexican southern_us\n",
            "----\n",
            "sugar pistachio nuts white almond bark flour vanilla extract olive oil almond extract eggs baking powder dried cranberries\n",
            "french southern_us\n",
            "----\n",
            "pimentos sweet pepper dried oregano olive oil garlic sharp cheddar cheese pepper swiss cheese provolone cheese canola oil mushrooms black olives sausages\n",
            "italian greek\n",
            "----\n",
            "low sodium soy sauce fresh ginger dry mustard green beans white pepper sesame oil scallions canola oil sugar shaoxing wine garlic ground turkey water crushed red pepper flakes corn starch\n",
            "italian french\n",
            "----\n",
            "tumeric vegetable stock tomatoes garam masala naan red lentils red chili peppers onions spinach sweet potatoes\n",
            "chinese japanese\n",
            "----\n",
            "greek yogurt lemon curd confectioners sugar raspberries\n",
            "indian vietnamese\n",
            "----\n",
            "italian seasoning broiler fryer chicken mayonaise zesty italian dressing\n",
            "japanese jamaican\n",
            "----\n",
            "soy sauce vegetable oil red bell pepper chicken broth yellow squash garlic chili sauce sliced green onions broccolini salt fresh lime juice cooked rice chicken breasts corn starch\n",
            "chinese italian\n",
            "----\n",
            "roma tomatoes kosher salt purple onion jalapeno chilies lime chopped cilantro\n",
            "italian cajun_creole\n",
            "----\n"
          ],
          "name": "stdout"
        }
      ]
    },
    {
      "cell_type": "code",
      "metadata": {
        "id": "2u6h8Fc7Kjgv",
        "colab_type": "code",
        "colab": {
          "base_uri": "https://localhost:8080/",
          "height": 54
        },
        "outputId": "7aa99fe8-2d2f-48a1-d7e3-9e0ce11e4e12"
      },
      "source": [
        "print(np.sum(conf_mat, axis=1))"
      ],
      "execution_count": 95,
      "outputs": [
        {
          "output_type": "stream",
          "text": [
            "[  71  106  238  399  103  396  170  448   97 1244   94  190  109  942\n",
            "  123   53  658  150  212  131]\n"
          ],
          "name": "stdout"
        }
      ]
    },
    {
      "cell_type": "code",
      "metadata": {
        "id": "LZA9I7aqJUCc",
        "colab_type": "code",
        "colab": {
          "base_uri": "https://localhost:8080/",
          "height": 54
        },
        "outputId": "1690dfcd-b1b1-4d41-d7d2-497d13bfec5f"
      },
      "source": [
        "np.sum(conf_mat, axis=0)"
      ],
      "execution_count": 96,
      "outputs": [
        {
          "output_type": "execute_result",
          "data": {
            "text/plain": [
              "array([  34,   45,  203,  438,   72,  409,  123,  477,   46, 1414,   60,\n",
              "        157,   92,  985,  105,   39,  848,   90,  216,   81])"
            ]
          },
          "metadata": {
            "tags": []
          },
          "execution_count": 96
        }
      ]
    },
    {
      "cell_type": "code",
      "metadata": {
        "id": "d531U7SYKowE",
        "colab_type": "code",
        "colab": {
          "base_uri": "https://localhost:8080/",
          "height": 283
        },
        "outputId": "d4799674-18be-4761-ba43-22b07c1c5606"
      },
      "source": [
        "sns.violinplot(len_ing)"
      ],
      "execution_count": 99,
      "outputs": [
        {
          "output_type": "execute_result",
          "data": {
            "text/plain": [
              "<matplotlib.axes._subplots.AxesSubplot at 0x7f92a886d4a8>"
            ]
          },
          "metadata": {
            "tags": []
          },
          "execution_count": 99
        },
        {
          "output_type": "display_data",
          "data": {
            "image/png": "[encoded data removed]",
            "text/plain": [
              "<Figure size 432x288 with 1 Axes>"
            ]
          },
          "metadata": {
            "tags": []
          }
        }
      ]
    },
    {
      "cell_type": "code",
      "metadata": {
        "id": "dXW9sP9KK6yA",
        "colab_type": "code",
        "colab": {
          "base_uri": "https://localhost:8080/",
          "height": 269
        },
        "outputId": "383f216c-0de6-4d77-e6a3-fce179768250"
      },
      "source": [
        "plt.clf()\n",
        "sns.heatmap(conf_mat, annot=False)\n",
        "plt.show()"
      ],
      "execution_count": 88,
      "outputs": [
        {
          "output_type": "display_data",
          "data": {
            "image/png": "[encoded data removed]",
            "text/plain": [
              "<Figure size 432x288 with 2 Axes>"
            ]
          },
          "metadata": {
            "tags": []
          }
        }
      ]
    },
    {
      "cell_type": "markdown",
      "metadata": {
        "id": "XfBFpw7ewA-T",
        "colab_type": "text"
      },
      "source": [
        "## Unsupervised learning"
      ]
    },
    {
      "cell_type": "code",
      "metadata": {
        "id": "yjWMMksVL59I",
        "colab_type": "code",
        "colab": {}
      },
      "source": [
        "def merge_word2vec(train_rep_old, word2vec_rep):\n",
        "    merged_dat = []\n",
        "    for i in range(len(train_rep_old)):\n",
        "        merged_dat.append(np.concatenate((np.array(train_rep_old[i]), word2vec_rep[i])))\n",
        "    return np.array(merged_dat)\n",
        "    \n",
        "def merge_representation(train_features, vectorized_text):\n",
        "    merged_dat = []\n",
        "    for i in range(len(train_features)):\n",
        "        merged_dat.append(np.concatenate((np.array(train_features[i][:-1]), vectorized_text[i])))\n",
        "    return np.array(merged_dat)\n",
        "\n",
        "train_rep, test_rep, binarizer = generate_tf_idf(processed_train_features, processed_test_features,\n",
        "                                                 bin=False, ngrammax=2,\n",
        "                                                 use_idf=True, smooth_idf=False, sublinear_tf=True)\n",
        "\n",
        "train_rep = merge_representation(processed_train_features, train_rep.toarray())\n",
        "train_rep2 = merge_word2vec(train_rep, word_rep)"
      ],
      "execution_count": 0,
      "outputs": []
    },
    {
      "cell_type": "code",
      "metadata": {
        "id": "uz4vhm3Av_tL",
        "colab_type": "code",
        "colab": {
          "base_uri": "https://localhost:8080/",
          "height": 54
        },
        "outputId": "364df2b3-0fad-44a9-9a09-713a54508231"
      },
      "source": [
        "print(train_rep[0].shape)\n",
        "print(train_rep2[0].shape)"
      ],
      "execution_count": 27,
      "outputs": [
        {
          "output_type": "stream",
          "text": [
            "(520,)\n",
            "(820,)\n"
          ],
          "name": "stdout"
        }
      ]
    },
    {
      "cell_type": "code",
      "metadata": {
        "id": "g_3wIixDyOga",
        "colab_type": "code",
        "colab": {}
      },
      "source": [
        "from sklearn.manifold import TSNE\n",
        "from sklearn.decomposition import PCA\n",
        "from sklearn.decomposition import LatentDirichletAllocation"
      ],
      "execution_count": 0,
      "outputs": []
    },
    {
      "cell_type": "code",
      "metadata": {
        "id": "uEOyX_vUzH9V",
        "colab_type": "code",
        "colab": {}
      },
      "source": [
        "pca = PCA(n_components=2)\n",
        "tsne = TSNE(n_components=2)"
      ],
      "execution_count": 0,
      "outputs": []
    },
    {
      "cell_type": "code",
      "metadata": {
        "id": "ocvSymu5zcoj",
        "colab_type": "code",
        "colab": {
          "base_uri": "https://localhost:8080/",
          "height": 637
        },
        "outputId": "e9858ddb-f8fa-41e5-c0fb-4e01beebc1d2"
      },
      "source": [
        "two_comp = np.array(pca.fit_transform(train_rep))\n",
        "ind = list(range(len(two_comp)))\n",
        "np.random.shuffle(ind)\n",
        "# ind = ind[0:10000]\n",
        "subsetlabel = [processed_train_target[i] for i in ind]\n",
        "dat = pd.DataFrame([two_comp[ind, 0], two_comp[ind, 1], subsetlabel]).T\n",
        "dat.columns = [\"Component 1\", \"Component 2\", \"label\"]\n",
        "print(dat)\n",
        "sns.scatterplot(x=\"Component 1\", y=\"Component 2\", hue=\"label\", data=dat)\n",
        "# plt.scatter(two_comp[ind, 0], two_comp[ind, 1])"
      ],
      "execution_count": 56,
      "outputs": [
        {
          "output_type": "stream",
          "text": [
            "      Component 1 Component 2         label\n",
            "0         7.56173    -1.12954       italian\n",
            "1         1.16317     4.07686         irish\n",
            "2        -17.0868    0.481383       british\n",
            "3          4.3602     1.47822       british\n",
            "4         16.9846    -2.22648  cajun_creole\n",
            "...           ...         ...           ...\n",
            "39554    -5.42625   -0.571008       italian\n",
            "39555     16.5626    -3.15722       italian\n",
            "39556    -7.18143    -1.95425       mexican\n",
            "39557    -1.91976     2.21134       chinese\n",
            "39558     7.56203    -1.12803       chinese\n",
            "\n",
            "[39559 rows x 3 columns]\n"
          ],
          "name": "stdout"
        },
        {
          "output_type": "execute_result",
          "data": {
            "text/plain": [
              "<matplotlib.axes._subplots.AxesSubplot at 0x7f129d83d2e8>"
            ]
          },
          "metadata": {
            "tags": []
          },
          "execution_count": 56
        },
        {
          "output_type": "display_data",
          "data": {
            "image/png": "[encoded data removed]",
            "text/plain": [
              "<Figure size 576x396 with 1 Axes>"
            ]
          },
          "metadata": {
            "tags": []
          }
        }
      ]
    },
    {
      "cell_type": "code",
      "metadata": {
        "id": "q-LjykzI0fB5",
        "colab_type": "code",
        "colab": {
          "base_uri": "https://localhost:8080/",
          "height": 637
        },
        "outputId": "55854610-e1f2-4bb1-b417-6b9722b03c9d"
      },
      "source": [
        "two_comp = np.array(tsne.fit_transform(train_rep))\n",
        "ind = list(range(len(two_comp)))\n",
        "np.random.shuffle(ind)\n",
        "subsetlabel = [processed_train_target[i] for i in ind]\n",
        "dat = pd.DataFrame([two_comp[ind, 0], two_comp[ind, 1], subsetlabel]).T\n",
        "dat.columns = [\"Component 1\", \"Component 2\", \"label\"]\n",
        "print(dat)\n",
        "sns.scatterplot(x=\"Component 1\", y=\"Component 2\", hue=\"label\", data=dat)"
      ],
      "execution_count": 57,
      "outputs": [
        {
          "output_type": "stream",
          "text": [
            "      Component 1 Component 2        label\n",
            "0         17.0669    -38.5886      mexican\n",
            "1       -0.963743    -13.7731    brazilian\n",
            "2        -31.2186    -49.0349         thai\n",
            "3        -45.6412    -23.5434         thai\n",
            "4         11.1662    -46.9158      italian\n",
            "...           ...         ...          ...\n",
            "39554    -20.7925    -26.6212       indian\n",
            "39555    -26.7128    -43.3721         thai\n",
            "39556     8.18901    -33.9825       korean\n",
            "39557       34.74    -14.4949      mexican\n",
            "39558    -6.38435     49.5446  southern_us\n",
            "\n",
            "[39559 rows x 3 columns]\n"
          ],
          "name": "stdout"
        },
        {
          "output_type": "execute_result",
          "data": {
            "text/plain": [
              "<matplotlib.axes._subplots.AxesSubplot at 0x7f1295b8b940>"
            ]
          },
          "metadata": {
            "tags": []
          },
          "execution_count": 57
        },
        {
          "output_type": "display_data",
          "data": {
            "image/png": "[encoded data removed]",
            "text/plain": [
              "<Figure size 576x396 with 1 Axes>"
            ]
          },
          "metadata": {
            "tags": []
          }
        }
      ]
    },
    {
      "cell_type": "code",
      "metadata": {
        "id": "Hz37E3st2Ej3",
        "colab_type": "code",
        "colab": {}
      },
      "source": [
        "def generate_counts(train_bin_vec):\n",
        "    binarizer = CountVectorizer(analyzer = \"word\",  ngram_range = (1, 2), \n",
        "                                binary = False, tokenizer = None, preprocessor = None, \n",
        "                                stop_words = None,  min_df=0.01) \n",
        "    binary_vec = binarizer.fit_transform([str(i[-1]) for i in train_bin_vec])\n",
        "    return binary_vec, binarizer\n",
        "\n",
        "def print_topics(model, count_vectorizer, n_top_words=10):\n",
        "    words = count_vectorizer.get_feature_names()\n",
        "    for topic_idx, topic in enumerate(model.components_):\n",
        "        print(\"\\nTopic #%d:\" % topic_idx)\n",
        "        print(\" \".join([words[i]\n",
        "                        for i in topic.argsort()[:-n_top_words - 1:-1]]))\n",
        "\n",
        "lda =  LatentDirichletAllocation(n_components=5)\n",
        "count_data, _ = generate_counts(processed_train_feature)\n",
        "lda.fit(count_data)\n",
        "print_topics(lda, count_data, 10)\n",
        "# ind = ind[0:10000]\n",
        "\n"
      ],
      "execution_count": 0,
      "outputs": []
    }
  ]
}